{
 "cells": [
  {
   "cell_type": "code",
   "execution_count": 63,
   "metadata": {},
   "outputs": [],
   "source": [
    "import matplotlib.pyplot as plt\n",
    "import numpy as np\n",
    "import os\n",
    "import PIL\n",
    "import tensorflow as tf\n",
    "from tensorflow import keras\n",
    "from tensorflow.keras import layers\n",
    "from tensorflow.keras.models import Sequential\n",
    "import cv2\n",
    "import numpy as np"
   ]
  },
  {
   "cell_type": "code",
   "execution_count": 70,
   "metadata": {},
   "outputs": [
    {
     "name": "stdout",
     "output_type": "stream",
     "text": [
      "Found 20151 files belonging to 5 classes.\n",
      "Using 16121 files for training.\n",
      "Found 20151 files belonging to 5 classes.\n",
      "Using 4030 files for validation.\n"
     ]
    }
   ],
   "source": [
    "batch_size = 32\n",
    "img_height = 100\n",
    "img_width = 100\n",
    "\n",
    "train_ds = tf.keras.preprocessing.image_dataset_from_directory(\n",
    "  '/Users/danielkashkett/Desktop/EyeProject/data/eye_imgs/',\n",
    "  validation_split=0.2,\n",
    "    color_mode=\"grayscale\",\n",
    "  subset=\"training\",\n",
    "  seed=123,\n",
    "  image_size=(img_height, img_width),\n",
    "  batch_size=batch_size)\n",
    "\n",
    "val_ds = tf.keras.preprocessing.image_dataset_from_directory(\n",
    "  '/Users/danielkashkett/Desktop/EyeProject/data/eye_imgs/',\n",
    "  validation_split=0.2,\n",
    "  color_mode=\"grayscale\",\n",
    "  subset=\"validation\",\n",
    "  seed=123,\n",
    "  image_size=(img_height, img_width),\n",
    "  batch_size=batch_size)"
   ]
  },
  {
   "cell_type": "code",
   "execution_count": 71,
   "metadata": {},
   "outputs": [
    {
     "name": "stdout",
     "output_type": "stream",
     "text": [
      "['center', 'down', 'left', 'right', 'up']\n"
     ]
    }
   ],
   "source": [
    "class_names = train_ds.class_names\n",
    "print(class_names)"
   ]
  },
  {
   "cell_type": "code",
   "execution_count": 126,
   "metadata": {},
   "outputs": [
    {
     "name": "stdout",
     "output_type": "stream",
     "text": [
      "Model: \"jupiter2\"\n",
      "_________________________________________________________________\n",
      "Layer (type)                 Output Shape              Param #   \n",
      "=================================================================\n",
      "input_15 (InputLayer)        [(None, 100, 100, 1)]     0         \n",
      "_________________________________________________________________\n",
      "rescaling_13 (Rescaling)     (None, 100, 100, 1)       0         \n",
      "_________________________________________________________________\n",
      "conv2d_36 (Conv2D)           (None, 100, 100, 16)      32        \n",
      "_________________________________________________________________\n",
      "max_pooling2d_36 (MaxPooling (None, 50, 50, 16)        0         \n",
      "_________________________________________________________________\n",
      "conv2d_37 (Conv2D)           (None, 50, 50, 32)        544       \n",
      "_________________________________________________________________\n",
      "max_pooling2d_37 (MaxPooling (None, 25, 25, 32)        0         \n",
      "_________________________________________________________________\n",
      "conv2d_38 (Conv2D)           (None, 25, 25, 64)        2112      \n",
      "_________________________________________________________________\n",
      "max_pooling2d_38 (MaxPooling (None, 12, 12, 64)        0         \n",
      "_________________________________________________________________\n",
      "dropout_12 (Dropout)         (None, 12, 12, 64)        0         \n",
      "_________________________________________________________________\n",
      "flatten_12 (Flatten)         (None, 9216)              0         \n",
      "_________________________________________________________________\n",
      "dense_23 (Dense)             (None, 128)               1179776   \n",
      "_________________________________________________________________\n",
      "dense_24 (Dense)             (None, 5)                 645       \n",
      "=================================================================\n",
      "Total params: 1,183,109\n",
      "Trainable params: 1,180,421\n",
      "Non-trainable params: 2,688\n",
      "_________________________________________________________________\n"
     ]
    }
   ],
   "source": [
    "num_classes = 5\n",
    "\n",
    "input_layer = keras.Input(shape=(img_height, img_width, 1))\n",
    "preprocessing = keras.layers.experimental.preprocessing.Rescaling(1./255)(input_layer)\n",
    "conv1 = keras.layers.Conv2D(16, 1, padding='same', activation='relu')(preprocessing)\n",
    "pool1 = keras.layers.MaxPooling2D()(conv1)\n",
    "conv2 = keras.layers.Conv2D(32, 1, padding='same', activation='relu')(pool1)\n",
    "pool2 = keras.layers.MaxPooling2D()(conv2)\n",
    "conv3 = layers.Conv2D(64, 1, padding='same', activation='relu')(pool2)\n",
    "pool3 = keras.layers.MaxPooling2D()(conv3)\n",
    "dropout = keras.layers.Dropout(0.2)(pool3)\n",
    "flatten = keras.layers.Flatten()(dropout)\n",
    "dense = keras.layers.Dense(128, activation='relu')(flatten)\n",
    "output_layer = keras.layers.Dense(num_classes)(dense)\n",
    "\n",
    "model = keras.Model(inputs=input_layer, outputs=output_layer, name=\"jupiter2\")\n",
    "\n",
    "opt = tf.keras.optimizers.Adam(learning_rate=0.003, beta_1=0.9, beta_2=0.999, epsilon=1e-07, amsgrad=False,name='Adam')\n",
    "    \n",
    "model.compile(optimizer=\"adam\", \n",
    "              loss=tf.keras.losses.SparseCategoricalCrossentropy(from_logits=True),\n",
    "              metrics=['accuracy'])\n",
    "\n",
    "for i in range(0,10):\n",
    "    model.layers[i].trainable = False\n",
    "    \n",
    "model.compile(optimizer=\"adam\", \n",
    "              loss=tf.keras.losses.SparseCategoricalCrossentropy(from_logits=True),\n",
    "              metrics=['accuracy'])\n",
    "model.summary()"
   ]
  },
  {
   "cell_type": "code",
   "execution_count": 127,
   "metadata": {},
   "outputs": [
    {
     "ename": "ValueError",
     "evalue": "The input must have 3 channels; got `input_shape=(100, 100, 1)`",
     "output_type": "error",
     "traceback": [
      "\u001b[0;31m---------------------------------------------------------------------------\u001b[0m",
      "\u001b[0;31mValueError\u001b[0m                                Traceback (most recent call last)",
      "\u001b[0;32m<ipython-input-127-d9b03559dca8>\u001b[0m in \u001b[0;36m<module>\u001b[0;34m\u001b[0m\n\u001b[1;32m      3\u001b[0m \u001b[0;34m\u001b[0m\u001b[0m\n\u001b[1;32m      4\u001b[0m \u001b[0;31m# Initialize the Pretrained Model\u001b[0m\u001b[0;34m\u001b[0m\u001b[0;34m\u001b[0m\u001b[0;34m\u001b[0m\u001b[0m\n\u001b[0;32m----> 5\u001b[0;31m feature_extractor = ResNet50(weights='imagenet', \n\u001b[0m\u001b[1;32m      6\u001b[0m                              \u001b[0minput_shape\u001b[0m\u001b[0;34m=\u001b[0m\u001b[0;34m(\u001b[0m\u001b[0mimg_height\u001b[0m\u001b[0;34m,\u001b[0m \u001b[0mimg_width\u001b[0m\u001b[0;34m,\u001b[0m \u001b[0;36m1\u001b[0m\u001b[0;34m)\u001b[0m\u001b[0;34m,\u001b[0m\u001b[0;34m\u001b[0m\u001b[0;34m\u001b[0m\u001b[0m\n\u001b[1;32m      7\u001b[0m                              include_top=False)\n",
      "\u001b[0;32m/opt/anaconda3/lib/python3.8/site-packages/tensorflow/python/keras/applications/resnet.py\u001b[0m in \u001b[0;36mResNet50\u001b[0;34m(include_top, weights, input_tensor, input_shape, pooling, classes, **kwargs)\u001b[0m\n\u001b[1;32m    472\u001b[0m     \u001b[0;32mreturn\u001b[0m \u001b[0mstack1\u001b[0m\u001b[0;34m(\u001b[0m\u001b[0mx\u001b[0m\u001b[0;34m,\u001b[0m \u001b[0;36m512\u001b[0m\u001b[0;34m,\u001b[0m \u001b[0;36m3\u001b[0m\u001b[0;34m,\u001b[0m \u001b[0mname\u001b[0m\u001b[0;34m=\u001b[0m\u001b[0;34m'conv5'\u001b[0m\u001b[0;34m)\u001b[0m\u001b[0;34m\u001b[0m\u001b[0;34m\u001b[0m\u001b[0m\n\u001b[1;32m    473\u001b[0m \u001b[0;34m\u001b[0m\u001b[0m\n\u001b[0;32m--> 474\u001b[0;31m   return ResNet(stack_fn, False, True, 'resnet50', include_top, weights,\n\u001b[0m\u001b[1;32m    475\u001b[0m                 input_tensor, input_shape, pooling, classes, **kwargs)\n\u001b[1;32m    476\u001b[0m \u001b[0;34m\u001b[0m\u001b[0m\n",
      "\u001b[0;32m/opt/anaconda3/lib/python3.8/site-packages/tensorflow/python/keras/applications/resnet.py\u001b[0m in \u001b[0;36mResNet\u001b[0;34m(stack_fn, preact, use_bias, model_name, include_top, weights, input_tensor, input_shape, pooling, classes, classifier_activation, **kwargs)\u001b[0m\n\u001b[1;32m    149\u001b[0m \u001b[0;34m\u001b[0m\u001b[0m\n\u001b[1;32m    150\u001b[0m   \u001b[0;31m# Determine proper input shape\u001b[0m\u001b[0;34m\u001b[0m\u001b[0;34m\u001b[0m\u001b[0;34m\u001b[0m\u001b[0m\n\u001b[0;32m--> 151\u001b[0;31m   input_shape = imagenet_utils.obtain_input_shape(\n\u001b[0m\u001b[1;32m    152\u001b[0m       \u001b[0minput_shape\u001b[0m\u001b[0;34m,\u001b[0m\u001b[0;34m\u001b[0m\u001b[0;34m\u001b[0m\u001b[0m\n\u001b[1;32m    153\u001b[0m       \u001b[0mdefault_size\u001b[0m\u001b[0;34m=\u001b[0m\u001b[0;36m224\u001b[0m\u001b[0;34m,\u001b[0m\u001b[0;34m\u001b[0m\u001b[0;34m\u001b[0m\u001b[0m\n",
      "\u001b[0;32m/opt/anaconda3/lib/python3.8/site-packages/tensorflow/python/keras/applications/imagenet_utils.py\u001b[0m in \u001b[0;36mobtain_input_shape\u001b[0;34m(input_shape, default_size, min_size, data_format, require_flatten, weights)\u001b[0m\n\u001b[1;32m    363\u001b[0m           \u001b[0;32mraise\u001b[0m \u001b[0mValueError\u001b[0m\u001b[0;34m(\u001b[0m\u001b[0;34m'`input_shape` must be a tuple of three integers.'\u001b[0m\u001b[0;34m)\u001b[0m\u001b[0;34m\u001b[0m\u001b[0;34m\u001b[0m\u001b[0m\n\u001b[1;32m    364\u001b[0m         \u001b[0;32mif\u001b[0m \u001b[0minput_shape\u001b[0m\u001b[0;34m[\u001b[0m\u001b[0;34m-\u001b[0m\u001b[0;36m1\u001b[0m\u001b[0;34m]\u001b[0m \u001b[0;34m!=\u001b[0m \u001b[0;36m3\u001b[0m \u001b[0;32mand\u001b[0m \u001b[0mweights\u001b[0m \u001b[0;34m==\u001b[0m \u001b[0;34m'imagenet'\u001b[0m\u001b[0;34m:\u001b[0m\u001b[0;34m\u001b[0m\u001b[0;34m\u001b[0m\u001b[0m\n\u001b[0;32m--> 365\u001b[0;31m           raise ValueError('The input must have 3 channels; got '\n\u001b[0m\u001b[1;32m    366\u001b[0m                            '`input_shape=' + str(input_shape) + '`')\n\u001b[1;32m    367\u001b[0m         if ((input_shape[0] is not None and input_shape[0] < min_size) or\n",
      "\u001b[0;31mValueError\u001b[0m: The input must have 3 channels; got `input_shape=(100, 100, 1)`"
     ]
    }
   ],
   "source": [
    "from tensorflow.keras.applications import ResNet50\n",
    "num_classes = 5\n",
    "\n",
    "# Initialize the Pretrained Model\n",
    "feature_extractor = ResNet50(weights='imagenet', \n",
    "                             input_shape=(img_height, img_width, 1),\n",
    "                             include_top=False)\n",
    "\n",
    "# Set this parameter to make sure it's not being trained\n",
    "feature_extractor.trainable = False\n",
    "\n",
    "# Set the input layer\n",
    "input_ = tf.keras.Input(shape=(img_height, img_width, 1))\n",
    "\n",
    "# Set the feature extractor layer\n",
    "x = feature_extractor(input_, training=False)\n",
    "\n",
    "# Set the pooling layer\n",
    "x = tf.keras.layers.GlobalAveragePooling2D()(x)\n",
    "\n",
    "# Set the final layer with sigmoid activation function\n",
    "output_ = tf.keras.layers.Dense(num_classes)(x)\n",
    "\n",
    "# Create the new model object\n",
    "model = tf.keras.Model(input_, output_)\n",
    "\n",
    "# Compile it\n",
    "model.compile(optimizer='adam',\n",
    "             loss=tf.keras.losses.SparseCategoricalCrossentropy(from_logits=True),\n",
    "             metrics=['accuracy'])\n",
    "\n",
    "# Print The Summary of The Model\n",
    "model.summary()"
   ]
  },
  {
   "cell_type": "code",
   "execution_count": 76,
   "metadata": {},
   "outputs": [
    {
     "name": "stdout",
     "output_type": "stream",
     "text": [
      "Epoch 1/10\n",
      "504/504 [==============================] - 46s 90ms/step - loss: 0.0891 - accuracy: 0.9664 - val_loss: 0.1895 - val_accuracy: 0.9464\n",
      "Epoch 2/10\n",
      "504/504 [==============================] - 44s 88ms/step - loss: 0.0906 - accuracy: 0.9676 - val_loss: 0.1948 - val_accuracy: 0.9429\n",
      "Epoch 3/10\n",
      "504/504 [==============================] - 46s 91ms/step - loss: 0.0866 - accuracy: 0.9686 - val_loss: 0.2142 - val_accuracy: 0.9447\n",
      "Epoch 4/10\n",
      "504/504 [==============================] - 45s 88ms/step - loss: 0.0830 - accuracy: 0.9708 - val_loss: 0.1867 - val_accuracy: 0.9479\n",
      "Epoch 5/10\n",
      "504/504 [==============================] - 44s 87ms/step - loss: 0.0796 - accuracy: 0.9713 - val_loss: 0.2178 - val_accuracy: 0.9449\n",
      "Epoch 6/10\n",
      "504/504 [==============================] - 39s 77ms/step - loss: 0.0805 - accuracy: 0.9706 - val_loss: 0.1923 - val_accuracy: 0.9519\n",
      "Epoch 7/10\n",
      "504/504 [==============================] - 38s 75ms/step - loss: 0.0757 - accuracy: 0.9718 - val_loss: 0.1992 - val_accuracy: 0.9459\n",
      "Epoch 8/10\n",
      "504/504 [==============================] - 39s 77ms/step - loss: 0.0723 - accuracy: 0.9731 - val_loss: 0.1995 - val_accuracy: 0.9479\n",
      "Epoch 9/10\n",
      "504/504 [==============================] - 39s 78ms/step - loss: 0.0713 - accuracy: 0.9734 - val_loss: 0.2078 - val_accuracy: 0.9481\n",
      "Epoch 10/10\n",
      "504/504 [==============================] - 42s 83ms/step - loss: 0.0714 - accuracy: 0.9736 - val_loss: 0.1980 - val_accuracy: 0.9464\n"
     ]
    }
   ],
   "source": [
    "epochs = 10\n",
    "history = model.fit(\n",
    "  train_ds,\n",
    "  validation_data=val_ds,\n",
    "    epochs=epochs\n",
    ")"
   ]
  },
  {
   "cell_type": "code",
   "execution_count": null,
   "metadata": {},
   "outputs": [],
   "source": [
    "model."
   ]
  },
  {
   "cell_type": "code",
   "execution_count": 79,
   "metadata": {},
   "outputs": [
    {
     "data": {
      "text/plain": [
       "12"
      ]
     },
     "execution_count": 79,
     "metadata": {},
     "output_type": "execute_result"
    }
   ],
   "source": [
    "len(model.layers)"
   ]
  },
  {
   "cell_type": "code",
   "execution_count": 19,
   "metadata": {},
   "outputs": [
    {
     "name": "stdout",
     "output_type": "stream",
     "text": [
      "Epoch 1/5\n",
      "504/504 [==============================] - 37s 74ms/step - loss: 1.0064 - accuracy: 0.9001 - val_loss: 1.0257 - val_accuracy: 0.8774\n",
      "Epoch 2/5\n",
      "504/504 [==============================] - 37s 74ms/step - loss: 1.0009 - accuracy: 0.9045 - val_loss: 1.0054 - val_accuracy: 0.8998\n",
      "Epoch 3/5\n",
      "504/504 [==============================] - 36s 72ms/step - loss: 0.9967 - accuracy: 0.9096 - val_loss: 0.9975 - val_accuracy: 0.9087\n",
      "Epoch 4/5\n",
      "504/504 [==============================] - 38s 75ms/step - loss: 0.9915 - accuracy: 0.9147 - val_loss: 0.9875 - val_accuracy: 0.9179\n",
      "Epoch 5/5\n",
      "504/504 [==============================] - 44s 88ms/step - loss: 0.9883 - accuracy: 0.9179 - val_loss: 0.9858 - val_accuracy: 0.9191\n"
     ]
    }
   ],
   "source": [
    "history = model.fit(\n",
    "  train_ds,\n",
    "  validation_data=val_ds,\n",
    "  epochs=epochs\n",
    ")"
   ]
  },
  {
   "cell_type": "code",
   "execution_count": 24,
   "metadata": {},
   "outputs": [
    {
     "name": "stdout",
     "output_type": "stream",
     "text": [
      "Epoch 1/5\n",
      "504/504 [==============================] - 48s 95ms/step - loss: 0.9736 - accuracy: 0.9315 - val_loss: 0.9773 - val_accuracy: 0.9285\n",
      "Epoch 2/5\n",
      "504/504 [==============================] - 47s 94ms/step - loss: 0.9688 - accuracy: 0.9361 - val_loss: 0.9785 - val_accuracy: 0.9266\n",
      "Epoch 3/5\n",
      "504/504 [==============================] - 39s 77ms/step - loss: 0.9762 - accuracy: 0.9289 - val_loss: 0.9808 - val_accuracy: 0.9236\n",
      "Epoch 4/5\n",
      "504/504 [==============================] - 38s 75ms/step - loss: 0.9723 - accuracy: 0.9328 - val_loss: 0.9760 - val_accuracy: 0.9283\n",
      "Epoch 5/5\n",
      "504/504 [==============================] - 39s 77ms/step - loss: 0.9699 - accuracy: 0.9347 - val_loss: 0.9781 - val_accuracy: 0.9268\n"
     ]
    }
   ],
   "source": [
    "history = model.fit(\n",
    "  train_ds,\n",
    "  validation_data=val_ds,\n",
    "  epochs=5\n",
    ")"
   ]
  },
  {
   "cell_type": "code",
   "execution_count": 97,
   "metadata": {},
   "outputs": [
    {
     "name": "stdout",
     "output_type": "stream",
     "text": [
      "INFO:tensorflow:Assets written to: ./Models/jupiter2/assets\n"
     ]
    }
   ],
   "source": [
    "model.save('./Models/jupiter2')"
   ]
  },
  {
   "cell_type": "code",
   "execution_count": 98,
   "metadata": {},
   "outputs": [],
   "source": [
    "newmodel = tf.keras.models.load_model('./Models/jupiter2/')"
   ]
  },
  {
   "cell_type": "code",
   "execution_count": 104,
   "metadata": {},
   "outputs": [],
   "source": [
    "def load_model_for_retrain():\n",
    "    model = tf.keras.models.load_model('./Models/jupiter2/')\n",
    "    # make all but last two layers untrainable\n",
    "    for i in range(0,10):\n",
    "        model.layers[i].trainable = False\n",
    "    model.compile(optimizer=\"adam\", \n",
    "              loss=tf.keras.losses.SparseCategoricalCrossentropy(from_logits=True),\n",
    "              metrics=['accuracy'])\n",
    "    return model"
   ]
  },
  {
   "cell_type": "code",
   "execution_count": null,
   "metadata": {},
   "outputs": [],
   "source": [
    "def retrain():\n",
    "    \n",
    "    batch_size = 32\n",
    "    img_height = 100\n",
    "    img_width = 100\n",
    "\n",
    "    train_ds = tf.keras.preprocessing.image_dataset_from_directory(\n",
    "      '../temp/data',\n",
    "      validation_split=0.1,\n",
    "        color_mode=\"grayscale\",\n",
    "      subset=\"training\",\n",
    "      seed=123,\n",
    "      image_size=(img_height, img_width),\n",
    "      batch_size=batch_size)\n",
    "\n",
    "    val_ds = tf.keras.preprocessing.image_dataset_from_directory(\n",
    "      '../temp/data',\n",
    "      validation_split=0.1,\n",
    "      color_mode=\"grayscale\",\n",
    "      subset=\"validation\",\n",
    "      seed=123,\n",
    "      image_size=(img_height, img_width),\n",
    "      batch_size=batch_size)\n",
    "    \n",
    "    model.fit(\n",
    "      train_ds,\n",
    "      validation_data=val_ds,\n",
    "      epochs=epochs\n",
    "    )\n",
    "    \n",
    "    return model"
   ]
  },
  {
   "cell_type": "code",
   "execution_count": 112,
   "metadata": {},
   "outputs": [],
   "source": [
    "img1 = cv2.imread('./a22.jpg',cv2.IMREAD_UNCHANGED)\n",
    "# img2 = cv2.imread('../data/eye_imgs/left/a10.jpg' ,cv2.IMREAD_UNCHANGED)\n",
    "# img = img.reshape((100,100,1))\n",
    "# img = np.expand_dims(img,0)"
   ]
  },
  {
   "cell_type": "code",
   "execution_count": 114,
   "metadata": {},
   "outputs": [],
   "source": [
    "img1 = np.expand_dims(img1,0)"
   ]
  },
  {
   "cell_type": "code",
   "execution_count": 125,
   "metadata": {},
   "outputs": [
    {
     "data": {
      "text/plain": [
       "0"
      ]
     },
     "execution_count": 125,
     "metadata": {},
     "output_type": "execute_result"
    }
   ],
   "source": [
    "np.argmax(model.predict(img1))"
   ]
  },
  {
   "cell_type": "code",
   "execution_count": 119,
   "metadata": {},
   "outputs": [],
   "source": [
    "arr = np.array([1,2,3,4,5,1])"
   ]
  },
  {
   "cell_type": "code",
   "execution_count": 124,
   "metadata": {},
   "outputs": [
    {
     "data": {
      "text/plain": [
       "1"
      ]
     },
     "execution_count": 124,
     "metadata": {},
     "output_type": "execute_result"
    }
   ],
   "source": [
    "from collections import Counter\n",
    "Counter(arr).most_common(1)[0][0]"
   ]
  },
  {
   "cell_type": "code",
   "execution_count": 24,
   "metadata": {},
   "outputs": [],
   "source": [
    "def joint_prediction():\n",
    "    pass"
   ]
  },
  {
   "cell_type": "code",
   "execution_count": 42,
   "metadata": {},
   "outputs": [],
   "source": [
    "\n",
    "img2 = np.expand_dims(img2,0)"
   ]
  },
  {
   "cell_type": "code",
   "execution_count": 43,
   "metadata": {},
   "outputs": [],
   "source": [
    "a = np.concatenate((img1,img2))"
   ]
  },
  {
   "cell_type": "code",
   "execution_count": 27,
   "metadata": {},
   "outputs": [
    {
     "data": {
      "text/plain": [
       "(2, 100, 100)"
      ]
     },
     "execution_count": 27,
     "metadata": {},
     "output_type": "execute_result"
    }
   ],
   "source": [
    "a.shape"
   ]
  },
  {
   "cell_type": "code",
   "execution_count": 45,
   "metadata": {},
   "outputs": [
    {
     "data": {
      "text/plain": [
       "array([ 2.0141094, -0.907617 ,  3.9984462, -2.9328032,  1.9947188],\n",
       "      dtype=float32)"
      ]
     },
     "execution_count": 45,
     "metadata": {},
     "output_type": "execute_result"
    }
   ],
   "source": [
    "model.predict(a)"
   ]
  },
  {
   "cell_type": "code",
   "execution_count": 53,
   "metadata": {},
   "outputs": [],
   "source": [
    "def predict_both(left, right):\n",
    "    img1 = np.expand_dims(left,0)\n",
    "    img2 = np.expand_dims(right,0)\n",
    "    concat = np.concatenate((img1,img2))\n",
    "    classes = model.predict_classes(concat)\n",
    "    if classes[0] == classes[1]:\n",
    "        return classes[0]\n",
    "    else:\n",
    "        pred = model.predict(concat)\n",
    "        a = (pred[0].argmax(), pred[0].max())\n",
    "        b = (pred[1].argmax(), pred[1].max())\n",
    "        if a[1] > b[1]:\n",
    "            return a[0]\n",
    "        else:\n",
    "            return b[0]"
   ]
  },
  {
   "cell_type": "code",
   "execution_count": null,
   "metadata": {},
   "outputs": [],
   "source": [
    "def predict_frame(self, eye_img):\n",
    "    img = eye_img.copy()\n",
    "    batch = np.expand_dims(img,0)\n",
    "    prediction = self.model.predict_classes(batch)[0]\n",
    "    return prediction"
   ]
  },
  {
   "cell_type": "code",
   "execution_count": 211,
   "metadata": {},
   "outputs": [
    {
     "data": {
      "text/plain": [
       "['center', 'down', 'left', 'right', 'up']"
      ]
     },
     "execution_count": 211,
     "metadata": {},
     "output_type": "execute_result"
    }
   ],
   "source": [
    "class_names"
   ]
  },
  {
   "cell_type": "code",
   "execution_count": 212,
   "metadata": {},
   "outputs": [
    {
     "name": "stdout",
     "output_type": "stream",
     "text": [
      "WARNING:tensorflow:5 out of the last 20 calls to <function Model.make_predict_function.<locals>.predict_function at 0x7fe44183d8b0> triggered tf.function retracing. Tracing is expensive and the excessive number of tracings could be due to (1) creating @tf.function repeatedly in a loop, (2) passing tensors with different shapes, (3) passing Python objects instead of tensors. For (1), please define your @tf.function outside of the loop. For (2), @tf.function has experimental_relax_shapes=True option that relaxes argument shapes that can avoid unnecessary retracing. For (3), please refer to https://www.tensorflow.org/tutorials/customization/performance#python_or_tensor_args and https://www.tensorflow.org/api_docs/python/tf/function for  more details.\n"
     ]
    },
    {
     "data": {
      "text/plain": [
       "2"
      ]
     },
     "execution_count": 212,
     "metadata": {},
     "output_type": "execute_result"
    }
   ],
   "source": [
    "model.predict_classes(img)[0]"
   ]
  }
 ],
 "metadata": {
  "kernelspec": {
   "display_name": "Python 3",
   "language": "python",
   "name": "python3"
  },
  "language_info": {
   "codemirror_mode": {
    "name": "ipython",
    "version": 3
   },
   "file_extension": ".py",
   "mimetype": "text/x-python",
   "name": "python",
   "nbconvert_exporter": "python",
   "pygments_lexer": "ipython3",
   "version": "3.8.3"
  }
 },
 "nbformat": 4,
 "nbformat_minor": 4
}
