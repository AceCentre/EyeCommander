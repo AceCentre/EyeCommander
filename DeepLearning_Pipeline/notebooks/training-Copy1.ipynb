{
 "cells": [
  {
   "cell_type": "code",
   "execution_count": 197,
   "metadata": {},
   "outputs": [],
   "source": [
    "import matplotlib.pyplot as plt\n",
    "import numpy as np\n",
    "import os\n",
    "import PIL\n",
    "import tensorflow as tf\n",
    "from tensorflow import keras\n",
    "from tensorflow.keras import layers\n",
    "from tensorflow.keras.models import Sequential\n",
    "import cv2\n",
    "import numpy as np"
   ]
  },
  {
   "cell_type": "code",
   "execution_count": 222,
   "metadata": {},
   "outputs": [
    {
     "name": "stdout",
     "output_type": "stream",
     "text": [
      "Found 20151 files belonging to 5 classes.\n",
      "Using 16121 files for training.\n",
      "Found 20151 files belonging to 5 classes.\n",
      "Using 4030 files for validation.\n"
     ]
    }
   ],
   "source": [
    "batch_size = 256\n",
    "img_height = 100\n",
    "img_width = 100\n",
    "\n",
    "train_ds = tf.keras.preprocessing.image_dataset_from_directory(\n",
    "  '/Users/danielkashkett/Desktop/EyeProject/data/eye_imgs/',\n",
    "  validation_split=0.2,\n",
    "    color_mode=\"grayscale\",\n",
    "  subset=\"training\",\n",
    "  seed=123,\n",
    "  image_size=(img_height, img_width),\n",
    "  batch_size=batch_size)\n",
    "\n",
    "val_ds = tf.keras.preprocessing.image_dataset_from_directory(\n",
    "  '/Users/danielkashkett/Desktop/EyeProject/data/eye_imgs/',\n",
    "  validation_split=0.2,\n",
    "  color_mode=\"grayscale\",\n",
    "  subset=\"validation\",\n",
    "  seed=123,\n",
    "  image_size=(img_height, img_width),\n",
    "  batch_size=batch_size)"
   ]
  },
  {
   "cell_type": "code",
   "execution_count": 223,
   "metadata": {},
   "outputs": [
    {
     "name": "stdout",
     "output_type": "stream",
     "text": [
      "['center', 'down', 'left', 'right', 'up']\n"
     ]
    }
   ],
   "source": [
    "class_names = train_ds.class_names\n",
    "print(class_names)"
   ]
  },
  {
   "cell_type": "code",
   "execution_count": 224,
   "metadata": {},
   "outputs": [
    {
     "name": "stdout",
     "output_type": "stream",
     "text": [
      "Model: \"jupiter3\"\n",
      "_________________________________________________________________\n",
      "Layer (type)                 Output Shape              Param #   \n",
      "=================================================================\n",
      "input_23 (InputLayer)        [(None, 100, 100, 1)]     0         \n",
      "_________________________________________________________________\n",
      "rescaling_22 (Rescaling)     (None, 100, 100, 1)       0         \n",
      "_________________________________________________________________\n",
      "conv2d_75 (Conv2D)           (None, 100, 100, 50)      100       \n",
      "_________________________________________________________________\n",
      "max_pooling2d_66 (MaxPooling (None, 50, 50, 50)        0         \n",
      "_________________________________________________________________\n",
      "conv2d_76 (Conv2D)           (None, 50, 50, 100)       5100      \n",
      "_________________________________________________________________\n",
      "max_pooling2d_67 (MaxPooling (None, 25, 25, 100)       0         \n",
      "_________________________________________________________________\n",
      "conv2d_77 (Conv2D)           (None, 25, 25, 200)       20200     \n",
      "_________________________________________________________________\n",
      "max_pooling2d_68 (MaxPooling (None, 12, 12, 200)       0         \n",
      "_________________________________________________________________\n",
      "dropout_22 (Dropout)         (None, 12, 12, 200)       0         \n",
      "_________________________________________________________________\n",
      "flatten_22 (Flatten)         (None, 28800)             0         \n",
      "_________________________________________________________________\n",
      "dense_51 (Dense)             (None, 128)               3686528   \n",
      "_________________________________________________________________\n",
      "dense_52 (Dense)             (None, 5)                 645       \n",
      "=================================================================\n",
      "Total params: 3,712,573\n",
      "Trainable params: 3,712,573\n",
      "Non-trainable params: 0\n",
      "_________________________________________________________________\n"
     ]
    }
   ],
   "source": [
    "num_classes = 5\n",
    "\n",
    "input_layer = keras.Input(shape=(img_height, img_width, 1))\n",
    "preprocessing = keras.layers.experimental.preprocessing.Rescaling(1./255)(input_layer)\n",
    "conv1 = keras.layers.Conv2D(50, 1, padding='same', activation='relu')(preprocessing)\n",
    "pool1 = keras.layers.MaxPooling2D()(conv1)\n",
    "conv2 = keras.layers.Conv2D(100, 1, padding='same', activation='relu')(pool1)\n",
    "pool2 = keras.layers.MaxPooling2D()(conv2)\n",
    "conv3 = layers.Conv2D(200, 1, padding='same', activation='relu')(pool2)\n",
    "pool3 = keras.layers.MaxPooling2D()(conv3)\n",
    "dropout = keras.layers.Dropout(0.2)(pool3)\n",
    "flatten = keras.layers.Flatten()(dropout)\n",
    "dense = keras.layers.Dense(128, activation='relu')(flatten)\n",
    "output_layer = keras.layers.Dense(num_classes,activation='softmax')(dense)\n",
    "\n",
    "model = keras.Model(inputs=input_layer, outputs=output_layer, name=\"jupiter3\")\n",
    "\n",
    "# opt = tf.keras.optimizers.Adam(learning_rate=0.003, beta_1=0.9, beta_2=0.999, epsilon=1e-07, amsgrad=False,name='Adam')\n",
    "opt = tf.keras.optimizers.SGD(lr=0.001, momentum=0.9)\n",
    "# model.compile(optimizer=opt, loss='categorical_crossentropy', metrics=['accuracy'])\n",
    "    \n",
    "model.compile(optimizer=opt, \n",
    "              loss=tf.keras.losses.SparseCategoricalCrossentropy(from_logits=True),\n",
    "              metrics=['accuracy'])\n",
    "\n",
    "# for i in range(0,10):\n",
    "#     model.layers[i].trainable = False\n",
    "    \n",
    "model.summary()"
   ]
  },
  {
   "cell_type": "code",
   "execution_count": 225,
   "metadata": {},
   "outputs": [],
   "source": [
    "# num_classes = 5\n",
    "\n",
    "# input_layer = keras.Input(shape=(img_height, img_width, 1))\n",
    "# preprocessing = keras.layers.experimental.preprocessing.Rescaling(1./255)(input_layer)\n",
    "# conv1 = keras.layers.Conv2D(16, 1, padding='same', activation='relu')(preprocessing)\n",
    "# pool1 = keras.layers.MaxPooling2D()(conv1)\n",
    "# conv2 = keras.layers.Conv2D(32, 1, padding='same', activation='relu')(pool1)\n",
    "# pool2 = keras.layers.MaxPooling2D()(conv2)\n",
    "# conv3 = layers.Conv2D(64, 1, padding='same', activation='relu')(pool2)\n",
    "# pool3 = keras.layers.MaxPooling2D()(conv3)\n",
    "# dropout = keras.layers.Dropout(0.2)(pool3)\n",
    "# flatten = keras.layers.Flatten()(dropout)\n",
    "# dense = keras.layers.Dense(128, activation='relu')(flatten)\n",
    "# output_layer = keras.layers.Dense(num_classes,activation='softmax')(dense)\n",
    "\n",
    "# model = keras.Model(inputs=input_layer, outputs=output_layer, name=\"jupiter3\")\n",
    "\n",
    "# # opt = tf.keras.optimizers.Adam(learning_rate=0.003, beta_1=0.9, beta_2=0.999, epsilon=1e-07, amsgrad=False,name='Adam')\n",
    "# opt = tf.keras.optimizers.SGD(lr=0.001, momentum=0.9)\n",
    "# # model.compile(optimizer=opt, loss='categorical_crossentropy', metrics=['accuracy'])\n",
    "    \n",
    "# model.compile(optimizer=opt, \n",
    "#               loss=tf.keras.losses.SparseCategoricalCrossentropy(from_logits=True),\n",
    "#               metrics=['accuracy'])\n",
    "\n",
    "# # for i in range(0,10):\n",
    "# #     model.layers[i].trainable = False\n",
    "    \n",
    "# model.summary()"
   ]
  },
  {
   "cell_type": "code",
   "execution_count": 226,
   "metadata": {},
   "outputs": [
    {
     "name": "stdout",
     "output_type": "stream",
     "text": [
      "Epoch 1/2\n",
      "63/63 [==============================] - 88s 1s/step - loss: 1.6079 - accuracy: 0.2738 - val_loss: 1.6050 - val_accuracy: 0.3340\n",
      "Epoch 2/2\n",
      "63/63 [==============================] - 93s 1s/step - loss: 1.6033 - accuracy: 0.3168 - val_loss: 1.5994 - val_accuracy: 0.3340\n"
     ]
    },
    {
     "data": {
      "text/plain": [
       "<tensorflow.python.keras.callbacks.History at 0x7fcffd947370>"
      ]
     },
     "execution_count": 226,
     "metadata": {},
     "output_type": "execute_result"
    }
   ],
   "source": [
    "epochs = 2\n",
    "model.fit(\n",
    "  train_ds,\n",
    "  validation_data=val_ds,\n",
    "    epochs=epochs,\n",
    "    batch_size=batch_size,\n",
    ")"
   ]
  },
  {
   "cell_type": "code",
   "execution_count": null,
   "metadata": {},
   "outputs": [],
   "source": []
  },
  {
   "cell_type": "code",
   "execution_count": null,
   "metadata": {},
   "outputs": [],
   "source": []
  },
  {
   "cell_type": "code",
   "execution_count": 97,
   "metadata": {},
   "outputs": [
    {
     "name": "stdout",
     "output_type": "stream",
     "text": [
      "INFO:tensorflow:Assets written to: ./Models/jupiter2/assets\n"
     ]
    }
   ],
   "source": [
    "# model.save('./Models/jupiter2')"
   ]
  },
  {
   "cell_type": "code",
   "execution_count": 193,
   "metadata": {},
   "outputs": [],
   "source": [
    "newmodel = tf.keras.models.load_model('../models/jupiter2/')"
   ]
  },
  {
   "cell_type": "code",
   "execution_count": 180,
   "metadata": {},
   "outputs": [],
   "source": [
    "img1 = cv2.imread('./a22.jpg',cv2.IMREAD_UNCHANGED)\n",
    "img2 = cv2.imread('./a22.jpg',cv2.IMREAD_UNCHANGED)\n",
    "# img2 = cv2.imread('../data/eye_imgs/left/a10.jpg' ,cv2.IMREAD_UNCHANGED)\n",
    "# img1 = img1.reshape((100,100,1))\n",
    "# img2 = img2.reshape((100,100,1))\n",
    "img1 = np.expand_dims(img1,0)\n",
    "img2 = np.expand_dims(img2,0)"
   ]
  },
  {
   "cell_type": "code",
   "execution_count": 181,
   "metadata": {},
   "outputs": [
    {
     "data": {
      "text/plain": [
       "(1, 100, 100)"
      ]
     },
     "execution_count": 181,
     "metadata": {},
     "output_type": "execute_result"
    }
   ],
   "source": [
    "img1.shape"
   ]
  },
  {
   "cell_type": "code",
   "execution_count": 182,
   "metadata": {},
   "outputs": [],
   "source": [
    "eyes = np.concatenate((img1,img2))"
   ]
  },
  {
   "cell_type": "code",
   "execution_count": 183,
   "metadata": {},
   "outputs": [
    {
     "data": {
      "text/plain": [
       "(2, 100, 100)"
      ]
     },
     "execution_count": 183,
     "metadata": {},
     "output_type": "execute_result"
    }
   ],
   "source": [
    "eyes.shape"
   ]
  },
  {
   "cell_type": "code",
   "execution_count": 184,
   "metadata": {},
   "outputs": [],
   "source": [
    "preds = model.predict(eyes)"
   ]
  },
  {
   "cell_type": "code",
   "execution_count": 195,
   "metadata": {},
   "outputs": [
    {
     "data": {
      "text/plain": [
       "7.1146994"
      ]
     },
     "execution_count": 195,
     "metadata": {},
     "output_type": "execute_result"
    }
   ],
   "source": [
    "newmodel.predict(img1).max()"
   ]
  },
  {
   "cell_type": "code",
   "execution_count": 75,
   "metadata": {},
   "outputs": [
    {
     "data": {
      "text/plain": [
       "(2, 5)"
      ]
     },
     "execution_count": 75,
     "metadata": {},
     "output_type": "execute_result"
    }
   ],
   "source": [
    "preds.shape"
   ]
  },
  {
   "cell_type": "code",
   "execution_count": 77,
   "metadata": {},
   "outputs": [
    {
     "data": {
      "text/plain": [
       "array([[0.19245677, 0.08666217, 0.63213127, 0.61192004, 0.26561435],\n",
       "       [0.08066118, 0.13698925, 0.67381752, 0.48385871, 0.65951644]])"
      ]
     },
     "execution_count": 77,
     "metadata": {},
     "output_type": "execute_result"
    }
   ],
   "source": [
    "np.random.rand(2,5)"
   ]
  },
  {
   "cell_type": "code",
   "execution_count": 37,
   "metadata": {},
   "outputs": [],
   "source": [
    "preds2 = preds1"
   ]
  },
  {
   "cell_type": "code",
   "execution_count": 107,
   "metadata": {},
   "outputs": [],
   "source": [
    "class PredictionWindow(object):\n",
    "    \n",
    "    def __init__(self, size=5):\n",
    "        self.size = size\n",
    "        self.items = []\n",
    "    \n",
    "    def insert_prediction(self, prediction):\n",
    "        if len(self.items) == self.size:\n",
    "            self.items.insert(0,prediction)\n",
    "            self.items.pop()\n",
    "        else:\n",
    "            self.items.append(prediction)\n",
    "            \n",
    "    def insert_predictions(self, predictions):\n",
    "        if (len(self.items) == self.size):\n",
    "            self.items.insert(0,predictions[0])\n",
    "            self.items.insert(1,predictions[1])\n",
    "            self.items.pop()\n",
    "            self.items.pop() \n",
    "        elif (len(self.items) == self.size -1):\n",
    "            self.items.insert(0,predictions[0])\n",
    "            self.items.insert(1,predictions[1])\n",
    "            self.items.pop()\n",
    "        else:\n",
    "            self.items.extend(predictions)\n",
    "    \n",
    "    def predict(self):\n",
    "        window = np.array(self.items)\n",
    "        mean_scores = np.mean(window,axis=0)\n",
    "        pred = mean_scores.argmax()\n",
    "        return pred\n"
   ]
  },
  {
   "cell_type": "code",
   "execution_count": 122,
   "metadata": {},
   "outputs": [],
   "source": [
    "window = PredictionWindow(size =6)"
   ]
  },
  {
   "cell_type": "code",
   "execution_count": 123,
   "metadata": {},
   "outputs": [],
   "source": [
    "preds = list(preds)"
   ]
  },
  {
   "cell_type": "code",
   "execution_count": 124,
   "metadata": {},
   "outputs": [],
   "source": [
    "window.insert_predictions(np.random.rand(2,5))"
   ]
  },
  {
   "cell_type": "code",
   "execution_count": 125,
   "metadata": {},
   "outputs": [
    {
     "data": {
      "text/plain": [
       "[array([0.91951894, 0.30401413, 0.01473367, 0.58865404, 0.60164443]),\n",
       " array([0.96556152, 0.75110749, 0.06155948, 0.65131349, 0.03253258])]"
      ]
     },
     "execution_count": 125,
     "metadata": {},
     "output_type": "execute_result"
    }
   ],
   "source": [
    "window.items"
   ]
  },
  {
   "cell_type": "code",
   "execution_count": 126,
   "metadata": {},
   "outputs": [
    {
     "data": {
      "text/plain": [
       "[array([0.91951894, 0.30401413, 0.01473367, 0.58865404, 0.60164443]),\n",
       " array([0.96556152, 0.75110749, 0.06155948, 0.65131349, 0.03253258]),\n",
       " array([0.56924852, 0.9064319 , 0.56479478, 0.10084006, 0.83186539]),\n",
       " array([0.14850993, 0.72629412, 0.71581791, 0.75950631, 0.61835229])]"
      ]
     },
     "execution_count": 126,
     "metadata": {},
     "output_type": "execute_result"
    }
   ],
   "source": [
    "window.insert_predictions(np.random.rand(2,5))\n",
    "window.items"
   ]
  },
  {
   "cell_type": "code",
   "execution_count": 127,
   "metadata": {},
   "outputs": [
    {
     "data": {
      "text/plain": [
       "[array([0.91951894, 0.30401413, 0.01473367, 0.58865404, 0.60164443]),\n",
       " array([0.96556152, 0.75110749, 0.06155948, 0.65131349, 0.03253258]),\n",
       " array([0.56924852, 0.9064319 , 0.56479478, 0.10084006, 0.83186539]),\n",
       " array([0.14850993, 0.72629412, 0.71581791, 0.75950631, 0.61835229]),\n",
       " array([0.24325409, 0.48779145, 0.68789064, 0.50463723, 0.79567773]),\n",
       " array([0.72827558, 0.47268944, 0.15936592, 0.39766187, 0.90709574])]"
      ]
     },
     "execution_count": 127,
     "metadata": {},
     "output_type": "execute_result"
    }
   ],
   "source": [
    "window.insert_predictions(np.random.rand(2,5))\n",
    "window.items"
   ]
  },
  {
   "cell_type": "code",
   "execution_count": 128,
   "metadata": {},
   "outputs": [
    {
     "data": {
      "text/plain": [
       "4"
      ]
     },
     "execution_count": 128,
     "metadata": {},
     "output_type": "execute_result"
    }
   ],
   "source": [
    "window.predict()"
   ]
  },
  {
   "cell_type": "code",
   "execution_count": 94,
   "metadata": {},
   "outputs": [
    {
     "data": {
      "text/plain": [
       "array([0.70270896, 0.58450846, 0.6838695 , 0.55168465, 0.5460241 ])"
      ]
     },
     "execution_count": 94,
     "metadata": {},
     "output_type": "execute_result"
    }
   ],
   "source": [
    "np.mean(items,axis=0)"
   ]
  },
  {
   "cell_type": "code",
   "execution_count": 91,
   "metadata": {},
   "outputs": [
    {
     "data": {
      "text/plain": [
       "0.7027089633333334"
      ]
     },
     "execution_count": 91,
     "metadata": {},
     "output_type": "execute_result"
    }
   ],
   "source": [
    "(0.26226795 + 0.99133883 + 0.85452011)/3"
   ]
  },
  {
   "cell_type": "code",
   "execution_count": 45,
   "metadata": {},
   "outputs": [
    {
     "ename": "ValueError",
     "evalue": "all the input arrays must have same number of dimensions, but the array at index 0 has 1 dimension(s) and the array at index 1 has 2 dimension(s)",
     "output_type": "error",
     "traceback": [
      "\u001b[0;31m---------------------------------------------------------------------------\u001b[0m",
      "\u001b[0;31mValueError\u001b[0m                                Traceback (most recent call last)",
      "\u001b[0;32m<ipython-input-45-d86b80e3949c>\u001b[0m in \u001b[0;36m<module>\u001b[0;34m\u001b[0m\n\u001b[0;32m----> 1\u001b[0;31m \u001b[0mnp\u001b[0m\u001b[0;34m.\u001b[0m\u001b[0mconcatenate\u001b[0m\u001b[0;34m(\u001b[0m\u001b[0;34m[\u001b[0m\u001b[0marr\u001b[0m\u001b[0;34m,\u001b[0m\u001b[0mpreds1\u001b[0m\u001b[0;34m]\u001b[0m\u001b[0;34m)\u001b[0m\u001b[0;34m\u001b[0m\u001b[0;34m\u001b[0m\u001b[0m\n\u001b[0m",
      "\u001b[0;32m<__array_function__ internals>\u001b[0m in \u001b[0;36mconcatenate\u001b[0;34m(*args, **kwargs)\u001b[0m\n",
      "\u001b[0;31mValueError\u001b[0m: all the input arrays must have same number of dimensions, but the array at index 0 has 1 dimension(s) and the array at index 1 has 2 dimension(s)"
     ]
    }
   ],
   "source": [
    "np.concatenate([arr,preds1])"
   ]
  },
  {
   "cell_type": "code",
   "execution_count": 41,
   "metadata": {},
   "outputs": [
    {
     "data": {
      "text/plain": [
       "(2, 5)"
      ]
     },
     "execution_count": 41,
     "metadata": {},
     "output_type": "execute_result"
    }
   ],
   "source": [
    "preds2.shape"
   ]
  },
  {
   "cell_type": "code",
   "execution_count": 40,
   "metadata": {},
   "outputs": [
    {
     "data": {
      "text/plain": [
       "(4, 5)"
      ]
     },
     "execution_count": 40,
     "metadata": {},
     "output_type": "execute_result"
    }
   ],
   "source": [
    "np.concatenate([preds1,preds2]).shape"
   ]
  },
  {
   "cell_type": "code",
   "execution_count": 125,
   "metadata": {},
   "outputs": [
    {
     "data": {
      "text/plain": [
       "0"
      ]
     },
     "execution_count": 125,
     "metadata": {},
     "output_type": "execute_result"
    }
   ],
   "source": [
    "np.argmax(model.predict(img1))"
   ]
  },
  {
   "cell_type": "code",
   "execution_count": 119,
   "metadata": {},
   "outputs": [],
   "source": [
    "arr = np.array([1,2,3,4,5,1])"
   ]
  },
  {
   "cell_type": "code",
   "execution_count": 124,
   "metadata": {},
   "outputs": [
    {
     "data": {
      "text/plain": [
       "1"
      ]
     },
     "execution_count": 124,
     "metadata": {},
     "output_type": "execute_result"
    }
   ],
   "source": [
    "from collections import Counter\n",
    "Counter(arr).most_common(1)[0][0]"
   ]
  },
  {
   "cell_type": "code",
   "execution_count": 24,
   "metadata": {},
   "outputs": [],
   "source": [
    "def joint_prediction():\n",
    "    pass"
   ]
  },
  {
   "cell_type": "code",
   "execution_count": 42,
   "metadata": {},
   "outputs": [],
   "source": [
    "\n",
    "img2 = np.expand_dims(img2,0)"
   ]
  },
  {
   "cell_type": "code",
   "execution_count": 43,
   "metadata": {},
   "outputs": [],
   "source": [
    "a = np.concatenate((img1,img2))"
   ]
  },
  {
   "cell_type": "code",
   "execution_count": 27,
   "metadata": {},
   "outputs": [
    {
     "data": {
      "text/plain": [
       "(2, 100, 100)"
      ]
     },
     "execution_count": 27,
     "metadata": {},
     "output_type": "execute_result"
    }
   ],
   "source": [
    "a.shape"
   ]
  },
  {
   "cell_type": "code",
   "execution_count": 45,
   "metadata": {},
   "outputs": [
    {
     "data": {
      "text/plain": [
       "array([ 2.0141094, -0.907617 ,  3.9984462, -2.9328032,  1.9947188],\n",
       "      dtype=float32)"
      ]
     },
     "execution_count": 45,
     "metadata": {},
     "output_type": "execute_result"
    }
   ],
   "source": [
    "model.predict(a)"
   ]
  },
  {
   "cell_type": "code",
   "execution_count": 53,
   "metadata": {},
   "outputs": [],
   "source": [
    "def predict_both(left, right):\n",
    "    img1 = np.expand_dims(left,0)\n",
    "    img2 = np.expand_dims(right,0)\n",
    "    concat = np.concatenate((img1,img2))\n",
    "    classes = model.predict_classes(concat)\n",
    "    if classes[0] == classes[1]:\n",
    "        return classes[0]\n",
    "    else:\n",
    "        pred = model.predict(concat)\n",
    "        a = (pred[0].argmax(), pred[0].max())\n",
    "        b = (pred[1].argmax(), pred[1].max())\n",
    "        if a[1] > b[1]:\n",
    "            return a[0]\n",
    "        else:\n",
    "            return b[0]"
   ]
  },
  {
   "cell_type": "code",
   "execution_count": null,
   "metadata": {},
   "outputs": [],
   "source": [
    "def predict_frame(self, eye_img):\n",
    "    img = eye_img.copy()\n",
    "    batch = np.expand_dims(img,0)\n",
    "    prediction = self.model.predict_classes(batch)[0]\n",
    "    return prediction"
   ]
  },
  {
   "cell_type": "code",
   "execution_count": 211,
   "metadata": {},
   "outputs": [
    {
     "data": {
      "text/plain": [
       "['center', 'down', 'left', 'right', 'up']"
      ]
     },
     "execution_count": 211,
     "metadata": {},
     "output_type": "execute_result"
    }
   ],
   "source": [
    "class_names"
   ]
  },
  {
   "cell_type": "code",
   "execution_count": 212,
   "metadata": {},
   "outputs": [
    {
     "name": "stdout",
     "output_type": "stream",
     "text": [
      "WARNING:tensorflow:5 out of the last 20 calls to <function Model.make_predict_function.<locals>.predict_function at 0x7fe44183d8b0> triggered tf.function retracing. Tracing is expensive and the excessive number of tracings could be due to (1) creating @tf.function repeatedly in a loop, (2) passing tensors with different shapes, (3) passing Python objects instead of tensors. For (1), please define your @tf.function outside of the loop. For (2), @tf.function has experimental_relax_shapes=True option that relaxes argument shapes that can avoid unnecessary retracing. For (3), please refer to https://www.tensorflow.org/tutorials/customization/performance#python_or_tensor_args and https://www.tensorflow.org/api_docs/python/tf/function for  more details.\n"
     ]
    },
    {
     "data": {
      "text/plain": [
       "2"
      ]
     },
     "execution_count": 212,
     "metadata": {},
     "output_type": "execute_result"
    }
   ],
   "source": [
    "model.predict_classes(img)[0]"
   ]
  }
 ],
 "metadata": {
  "kernelspec": {
   "display_name": "Python 3",
   "language": "python",
   "name": "python3"
  },
  "language_info": {
   "codemirror_mode": {
    "name": "ipython",
    "version": 3
   },
   "file_extension": ".py",
   "mimetype": "text/x-python",
   "name": "python",
   "nbconvert_exporter": "python",
   "pygments_lexer": "ipython3",
   "version": "3.8.3"
  }
 },
 "nbformat": 4,
 "nbformat_minor": 4
}
