{
 "cells": [
  {
   "cell_type": "code",
   "execution_count": 1,
   "metadata": {},
   "outputs": [],
   "source": [
    "import os\n",
    "import cv2"
   ]
  },
  {
   "cell_type": "code",
   "execution_count": 2,
   "metadata": {},
   "outputs": [],
   "source": [
    "inpath = '../eye videos/videos/'\n",
    "writepath = './data/imgs/'"
   ]
  },
  {
   "cell_type": "code",
   "execution_count": 3,
   "metadata": {},
   "outputs": [],
   "source": [
    "def dir_to_frames(inpath, writepath):\n",
    "    writepath = writepath\n",
    "    files = [i for i in os.listdir(inpath) if i != '.DS_Store' and i != '.ipynb_checkpoints']\n",
    "    count = 1\n",
    "    for f in files:\n",
    "        vidpath = os.path.join(inpath, f)\n",
    "        vidcap = cv2.VideoCapture(vidpath)\n",
    "        success,image = vidcap.read()\n",
    "        framecount = 0\n",
    "        while success:\n",
    "            try:\n",
    "                success,image = vidcap.read()\n",
    "                cv2.imwrite(writepath + str(count)+\"frame%d.jpg\" % framecount, image)     # save frame as JPEG file      \n",
    "                framecount += 1\n",
    "            except:\n",
    "                pass\n",
    "        count+=1"
   ]
  },
  {
   "cell_type": "code",
   "execution_count": 4,
   "metadata": {},
   "outputs": [],
   "source": [
    "c = 'center'\n",
    "inpath = f'../eye videos/videos/{c}'\n",
    "writepath = f'./data/imgs/{c}'"
   ]
  },
  {
   "cell_type": "code",
   "execution_count": 5,
   "metadata": {},
   "outputs": [],
   "source": [
    "# dir_to_frames(inpath, writepath=writepath)"
   ]
  },
  {
   "cell_type": "code",
   "execution_count": 3,
   "metadata": {},
   "outputs": [],
   "source": [
    "from commander import Commander"
   ]
  },
  {
   "cell_type": "code",
   "execution_count": null,
   "metadata": {},
   "outputs": [],
   "source": [
    "commander = Commander()"
   ]
  },
  {
   "cell_type": "code",
   "execution_count": 8,
   "metadata": {},
   "outputs": [],
   "source": [
    "img = cv2.imread('./data/imgs/center16frame25.jpg')"
   ]
  },
  {
   "cell_type": "code",
   "execution_count": null,
   "metadata": {},
   "outputs": [],
   "source": [
    "com"
   ]
  }
 ],
 "metadata": {
  "kernelspec": {
   "display_name": "Python 3",
   "language": "python",
   "name": "python3"
  },
  "language_info": {
   "codemirror_mode": {
    "name": "ipython",
    "version": 3
   },
   "file_extension": ".py",
   "mimetype": "text/x-python",
   "name": "python",
   "nbconvert_exporter": "python",
   "pygments_lexer": "ipython3",
   "version": "3.8.3"
  }
 },
 "nbformat": 4,
 "nbformat_minor": 4
}
