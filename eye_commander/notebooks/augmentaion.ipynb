{
 "cells": [
  {
   "cell_type": "code",
   "execution_count": null,
   "metadata": {},
   "outputs": [],
   "source": [
    "def augment(path):\n",
    "    files = glob.glob(path + '/*.jpg')\n",
    "    count = 1\n",
    "    for file in files:\n",
    "        img = cv2.imread(file, cv2.IMREAD_UNCHANGED)\n",
    "        img = np.array(tf.image.random_brightness(img,max_delta=0.3))\n",
    "        while (img.mean() > 210) or (img.mean() < 50):\n",
    "            img = np.array(tf.image.random_brightness(img,max_delta=0.3))\n",
    "        cv2.imwrite(os.path.join(path,f'aug{count}.jpg'),img)\n",
    "        count+=1\n",
    "    print(count)"
   ]
  },
  {
   "cell_type": "code",
   "execution_count": null,
   "metadata": {},
   "outputs": [],
   "source": [
    "for path in ['../../../data/processed/eye_frames/center/',\n",
    "             '../../../data/processed/eye_frames/up/',\n",
    "             '../../../data/processed/eye_frames/down/',\n",
    "             '../../../data/processed/eye_frames/right/',\n",
    "             '../../../data/processed/eye_frames/left/']:\n",
    "    augment(path)"
   ]
  },
  {
   "cell_type": "code",
   "execution_count": null,
   "metadata": {},
   "outputs": [],
   "source": [
    "# balancing\n",
    "basepath = '../../../data/processed/eye_frames/'\n",
    "for path in ['up/','down/','left/','right/','center/']:\n",
    "    curr = basepath + path\n",
    "    files = glob.glob(curr + '/*.jpg')\n",
    "    n_to_delete = len(files) - 5858 \n",
    "    if n_to_delete <= 0:\n",
    "        continue\n",
    "    else:\n",
    "        files_to_delete = np.random.choice(files,size=n_to_delete,replace=False)\n",
    "        for f in files_to_delete:\n",
    "            os.remove(f)\n",
    "    files = glob.glob(curr + '/*.jpg')\n",
    "    print(len(files))"
   ]
  }
 ],
 "metadata": {
  "kernelspec": {
   "display_name": "Python 3",
   "language": "python",
   "name": "python3"
  },
  "language_info": {
   "codemirror_mode": {
    "name": "ipython",
    "version": 3
   },
   "file_extension": ".py",
   "mimetype": "text/x-python",
   "name": "python",
   "nbconvert_exporter": "python",
   "pygments_lexer": "ipython3",
   "version": "3.8.3"
  }
 },
 "nbformat": 4,
 "nbformat_minor": 4
}
