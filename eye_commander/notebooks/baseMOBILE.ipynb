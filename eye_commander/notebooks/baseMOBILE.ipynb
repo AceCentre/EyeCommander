{
 "cells": [
  {
   "cell_type": "code",
   "execution_count": 23,
   "metadata": {},
   "outputs": [],
   "source": [
    "import matplotlib.pyplot as plt\n",
    "import numpy as np\n",
    "import os\n",
    "import PIL\n",
    "import tensorflow as tf\n",
    "from tensorflow import keras\n",
    "from tensorflow.keras import layers\n",
    "from tensorflow.keras.models import Sequential\n",
    "import cv2\n",
    "import numpy as np\n",
    "import glob\n",
    "from sklearn.model_selection import train_test_split\n",
    "from sklearn import preprocessing\n",
    "import pandas as pd\n",
    "from sklearn.metrics import classification_report"
   ]
  },
  {
   "cell_type": "code",
   "execution_count": 24,
   "metadata": {},
   "outputs": [],
   "source": [
    "def augment(arr):\n",
    "    for idx in range(len(arr)):\n",
    "        img = arr[idx]\n",
    "        img = np.array(tf.image.random_brightness(img,max_delta=0.3))\n",
    "        while (img.mean() > 210) or (img.mean() < 50):\n",
    "            img = np.array(tf.image.random_brightness(img,max_delta=0.3))\n",
    "        arr[idx] = img\n",
    "    return arr"
   ]
  },
  {
   "cell_type": "code",
   "execution_count": 25,
   "metadata": {},
   "outputs": [
    {
     "name": "stdout",
     "output_type": "stream",
     "text": [
      "{0: 2776, 1: 2398, 2: 2358, 3: 2448, 4: 5272}\n"
     ]
    }
   ],
   "source": [
    "path = '../../../data/processed/color80/'\n",
    "d = {}\n",
    "for idx, l in enumerate(['center', 'down', 'left', 'right', 'up']):\n",
    "    subpath = os.path.join(path, l)\n",
    "    files = glob.glob(subpath + '/*.jpg')\n",
    "    data = []\n",
    "    for f in files:\n",
    "        img = cv2.imread(f, cv2.IMREAD_UNCHANGED)\n",
    "        data.append(img)\n",
    "    d[idx] = np.array(data)\n",
    "shapes = {key:val.shape[0] for key,val in d.items()}\n",
    "max_size = max(shapes.values())\n",
    "print(shapes)"
   ]
  },
  {
   "cell_type": "code",
   "execution_count": 26,
   "metadata": {},
   "outputs": [
    {
     "name": "stdout",
     "output_type": "stream",
     "text": [
      "{0: 5272, 1: 5272, 2: 5272, 3: 5272, 4: 5272}\n"
     ]
    }
   ],
   "source": [
    "for key, val in shapes.items():\n",
    "    diff = max_size - val\n",
    "    if diff <= 0:\n",
    "        continue\n",
    "    else:\n",
    "        smpl_idxs = np.random.randint(0, val-1, size=diff)\n",
    "        samples = augment(d[key][smpl_idxs])\n",
    "        d[key] = np.concatenate([d[key],samples])\n",
    "shapes = {key:val.shape[0] for key,val in d.items()}\n",
    "print(shapes)"
   ]
  },
  {
   "cell_type": "code",
   "execution_count": 27,
   "metadata": {},
   "outputs": [],
   "source": [
    "images = []\n",
    "labels = []\n",
    "for key, val in d.items():\n",
    "    images.extend(list(val))\n",
    "    labels.extend([key]*len(val))\n",
    "images = np.array(images)\n",
    "labels = np.array(labels)"
   ]
  },
  {
   "cell_type": "code",
   "execution_count": 28,
   "metadata": {},
   "outputs": [],
   "source": [
    "X_train, X_test, y_train, y_test = train_test_split(images, labels, shuffle=True, test_size=0.1, random_state=42)"
   ]
  },
  {
   "cell_type": "code",
   "execution_count": 29,
   "metadata": {},
   "outputs": [
    {
     "name": "stdout",
     "output_type": "stream",
     "text": [
      "WARNING:tensorflow:`input_shape` is undefined or non-square, or `rows` is not in [96, 128, 160, 192, 224]. Weights for input shape (224, 224) will be loaded as the default.\n"
     ]
    }
   ],
   "source": [
    "mobile = tf.keras.applications.mobilenet_v2.MobileNetV2(include_top=False,weights='imagenet',input_shape=(80,80,3))\n",
    "for i in range(len(mobile.layers)):\n",
    "    mobile.layers[i].trainable = False\n",
    "\n",
    "# for i in range(-11,0):\n",
    "#     mobile.layers[i].trainable = True"
   ]
  },
  {
   "cell_type": "code",
   "execution_count": 30,
   "metadata": {},
   "outputs": [],
   "source": [
    "input_layer = keras.Input(shape=(80, 80, 3))\n",
    "x = keras.layers.experimental.preprocessing.Rescaling(1./255)(input_layer)\n",
    "x = mobile(x)\n",
    "x = tf.keras.layers.GlobalAveragePooling2D()(x)\n",
    "x = tf.keras.layers.Dropout(.2)(x)\n",
    "x = tf.keras.layers.Dense(640, activation='relu')(x)\n",
    "x = tf.keras.layers.Dense(320, activation='relu')(x)\n",
    "x = tf.keras.layers.Dense(160, activation='relu')(x)\n",
    "output_layer = tf.keras.layers.Dense(5, activation='softmax')(x)\n",
    "model = keras.Model(inputs=input_layer, outputs=output_layer, name=\"mobile\")"
   ]
  },
  {
   "cell_type": "code",
   "execution_count": 31,
   "metadata": {},
   "outputs": [
    {
     "name": "stdout",
     "output_type": "stream",
     "text": [
      "Model: \"mobile\"\n",
      "_________________________________________________________________\n",
      "Layer (type)                 Output Shape              Param #   \n",
      "=================================================================\n",
      "input_6 (InputLayer)         [(None, 80, 80, 3)]       0         \n",
      "_________________________________________________________________\n",
      "rescaling_2 (Rescaling)      (None, 80, 80, 3)         0         \n",
      "_________________________________________________________________\n",
      "mobilenetv2_1.00_224 (Functi (None, 3, 3, 1280)        2257984   \n",
      "_________________________________________________________________\n",
      "global_average_pooling2d_2 ( (None, 1280)              0         \n",
      "_________________________________________________________________\n",
      "dropout (Dropout)            (None, 1280)              0         \n",
      "_________________________________________________________________\n",
      "dense_8 (Dense)              (None, 640)               819840    \n",
      "_________________________________________________________________\n",
      "dense_9 (Dense)              (None, 320)               205120    \n",
      "_________________________________________________________________\n",
      "dense_10 (Dense)             (None, 160)               51360     \n",
      "_________________________________________________________________\n",
      "dense_11 (Dense)             (None, 5)                 805       \n",
      "=================================================================\n",
      "Total params: 3,335,109\n",
      "Trainable params: 1,077,125\n",
      "Non-trainable params: 2,257,984\n",
      "_________________________________________________________________\n"
     ]
    }
   ],
   "source": [
    "opt = tf.keras.optimizers.Adam(learning_rate=0.0001, beta_1=0.9, beta_2=0.999, epsilon=1e-07, amsgrad=False,name='Adam')\n",
    "model.compile(optimizer=opt, \n",
    "              loss=tf.keras.losses.SparseCategoricalCrossentropy(from_logits=False),\n",
    "              metrics=['accuracy'])\n",
    "\n",
    "model.summary()"
   ]
  },
  {
   "cell_type": "code",
   "execution_count": 32,
   "metadata": {},
   "outputs": [],
   "source": [
    "es = tf.keras.callbacks.EarlyStopping(monitor='val_loss', mode='min', verbose=1, patience=5)\n",
    "mc = tf.keras.callbacks.ModelCheckpoint('./best_mobile.h5', monitor='val_accuracy', mode='max', verbose=1, save_best_only=True)\n",
    "callbacks = [es,mc]"
   ]
  },
  {
   "cell_type": "code",
   "execution_count": 33,
   "metadata": {},
   "outputs": [],
   "source": [
    "epochs = 10"
   ]
  },
  {
   "cell_type": "code",
   "execution_count": 34,
   "metadata": {},
   "outputs": [
    {
     "name": "stdout",
     "output_type": "stream",
     "text": [
      "Epoch 1/10\n",
      "186/186 [==============================] - 49s 253ms/step - loss: 0.6082 - accuracy: 0.7767\n",
      "Epoch 2/10\n",
      "186/186 [==============================] - 50s 268ms/step - loss: 0.2897 - accuracy: 0.8991\n",
      "Epoch 3/10\n",
      "186/186 [==============================] - 54s 293ms/step - loss: 0.2155 - accuracy: 0.9248\n",
      "Epoch 4/10\n",
      "186/186 [==============================] - 53s 285ms/step - loss: 0.1837 - accuracy: 0.9361\n",
      "Epoch 5/10\n",
      "186/186 [==============================] - 48s 256ms/step - loss: 0.1588 - accuracy: 0.9436\n",
      "Epoch 6/10\n",
      "186/186 [==============================] - 50s 269ms/step - loss: 0.1465 - accuracy: 0.9480\n",
      "Epoch 7/10\n",
      "186/186 [==============================] - 49s 266ms/step - loss: 0.1255 - accuracy: 0.9551\n",
      "Epoch 8/10\n",
      "186/186 [==============================] - 49s 266ms/step - loss: 0.1204 - accuracy: 0.9565\n",
      "Epoch 9/10\n",
      "186/186 [==============================] - 49s 265ms/step - loss: 0.1065 - accuracy: 0.9610\n",
      "Epoch 10/10\n",
      "186/186 [==============================] - 48s 258ms/step - loss: 0.1019 - accuracy: 0.9638\n"
     ]
    }
   ],
   "source": [
    "history = model.fit(\n",
    "  x=X_train,\n",
    "    y=y_train,\n",
    "  epochs=epochs, \n",
    "  batch_size=128,\n",
    ")"
   ]
  },
  {
   "cell_type": "code",
   "execution_count": 35,
   "metadata": {},
   "outputs": [
    {
     "data": {
      "text/plain": [
       "<matplotlib.axes._subplots.AxesSubplot at 0x7fcb1730d520>"
      ]
     },
     "execution_count": 35,
     "metadata": {},
     "output_type": "execute_result"
    },
    {
     "data": {
      "image/png": "[encoded data removed]",
      "text/plain": [
       "<Figure size 432x288 with 1 Axes>"
      ]
     },
     "metadata": {
      "needs_background": "light"
     },
     "output_type": "display_data"
    }
   ],
   "source": [
    "train_history = pd.DataFrame(history.history)\n",
    "train_history.loss.plot()"
   ]
  },
  {
   "cell_type": "code",
   "execution_count": 38,
   "metadata": {},
   "outputs": [
    {
     "name": "stdout",
     "output_type": "stream",
     "text": [
      "Epoch 1/2\n",
      "186/186 [==============================] - 47s 250ms/step - loss: 0.0698 - accuracy: 0.9742\n",
      "Epoch 2/2\n",
      "186/186 [==============================] - 46s 245ms/step - loss: 0.0690 - accuracy: 0.9737\n"
     ]
    }
   ],
   "source": [
    "history = model.fit(\n",
    "  x=X_train,\n",
    "    y=y_train,\n",
    "  epochs=2, \n",
    "  batch_size=128,\n",
    ")"
   ]
  },
  {
   "cell_type": "code",
   "execution_count": 39,
   "metadata": {},
   "outputs": [
    {
     "name": "stdout",
     "output_type": "stream",
     "text": [
      "83/83 [==============================] - 5s 65ms/step - loss: 0.0611 - accuracy: 0.9776\n"
     ]
    },
    {
     "data": {
      "text/plain": [
       "[0.061071157455444336, 0.977617621421814]"
      ]
     },
     "execution_count": 39,
     "metadata": {},
     "output_type": "execute_result"
    }
   ],
   "source": [
    "model.evaluate(x=X_test, y=y_test)"
   ]
  },
  {
   "cell_type": "code",
   "execution_count": 40,
   "metadata": {},
   "outputs": [
    {
     "name": "stderr",
     "output_type": "stream",
     "text": [
      "/opt/anaconda3/lib/python3.8/site-packages/tensorflow/python/keras/utils/generic_utils.py:494: CustomMaskWarning: Custom mask layers require a config and must override get_config. When loading, the custom mask layer must be passed to the custom_objects argument.\n",
      "  warnings.warn('Custom mask layers require a config and must override '\n"
     ]
    },
    {
     "name": "stdout",
     "output_type": "stream",
     "text": [
      "INFO:tensorflow:Assets written to: ./eyenet/assets\n"
     ]
    }
   ],
   "source": [
    "# model.save('./eyenet')"
   ]
  },
  {
   "cell_type": "code",
   "execution_count": 95,
   "metadata": {},
   "outputs": [],
   "source": [
    "def augment(arr):\n",
    "    for idx in range(len(arr)):\n",
    "        img = arr[idx]\n",
    "        img = np.array(tf.image.random_brightness(img,max_delta=0.3))\n",
    "        while (img.mean() > 210) or (img.mean() < 50):\n",
    "            img = np.array(tf.image.random_brightness(img,max_delta=0.3))\n",
    "        arr[idx] = img\n",
    "    return arr\n",
    "\n",
    "def load_calibration_data(path, balance:bool=True):\n",
    "    d = {}\n",
    "    for idx, l in enumerate(['center', 'down', 'left', 'right', 'up']):\n",
    "        subpath = os.path.join(path, l)\n",
    "        files = glob.glob(subpath + '/*.jpg')\n",
    "        data = []\n",
    "        for f in files:\n",
    "            img = cv2.imread(f, cv2.IMREAD_UNCHANGED)\n",
    "            data.append(img)\n",
    "        d[idx] = np.array(data)\n",
    "    shapes = {key:val.shape[0] for key,val in d.items()}\n",
    "    max_size = max(shapes.values())\n",
    "   \n",
    "    if balance == True:\n",
    "        for key, val in shapes.items():\n",
    "            diff = max_size - val\n",
    "            if diff <= 0:\n",
    "                continue\n",
    "            else:\n",
    "                smpl_idxs = np.random.randint(0, val-1, size=diff)\n",
    "                samples = augment(d[key][smpl_idxs])\n",
    "                d[key] = np.concatenate([d[key],samples])\n",
    "        shapes = {key:val.shape[0] for key,val in d.items()}\n",
    "        \n",
    "    images = []\n",
    "    labels = []\n",
    "    for key, val in d.items():\n",
    "        images.extend(list(val))\n",
    "        labels.extend([key]*len(val))\n",
    "    images = np.array(images)\n",
    "    labels = np.array(labels)\n",
    "    print('output dataset size: ',shapes)\n",
    "    return images, labels\n",
    "\n",
    "def load_model_for_tuning(path):\n",
    "    print('loading model')\n",
    "    model = tf.keras.models.load_model(path)\n",
    "    for i in range(len(model.layers)):\n",
    "        model.layers[i].trainable = False\n",
    "    model.layers[-1].trainable = True\n",
    "    return model\n",
    "\n",
    "def tune_model(model, X, y):\n",
    "    model.fit(x= X, y=y, epochs=10, batch_size =32, shuffle=True)\n",
    "    return model"
   ]
  },
  {
   "cell_type": "code",
   "execution_count": 94,
   "metadata": {},
   "outputs": [
    {
     "name": "stdout",
     "output_type": "stream",
     "text": [
      "output dataset size:  {0: 414, 1: 414, 2: 414, 3: 414, 4: 414}\n",
      "loading model\n",
      "Epoch 1/10\n",
      "65/65 [==============================] - 8s 72ms/step - loss: 1.0521 - accuracy: 0.7145\n",
      "Epoch 2/10\n",
      "65/65 [==============================] - 5s 74ms/step - loss: 0.3205 - accuracy: 0.8981\n",
      "Epoch 3/10\n",
      "65/65 [==============================] - 5s 78ms/step - loss: 0.2094 - accuracy: 0.9343\n",
      "Epoch 4/10\n",
      "65/65 [==============================] - 5s 84ms/step - loss: 0.1651 - accuracy: 0.9435\n",
      "Epoch 5/10\n",
      "65/65 [==============================] - 5s 82ms/step - loss: 0.1457 - accuracy: 0.9469\n",
      "Epoch 6/10\n",
      "65/65 [==============================] - 5s 81ms/step - loss: 0.1234 - accuracy: 0.9580\n",
      "Epoch 7/10\n",
      "65/65 [==============================] - 5s 76ms/step - loss: 0.1007 - accuracy: 0.9686\n",
      "Epoch 8/10\n",
      "65/65 [==============================] - 5s 76ms/step - loss: 0.0819 - accuracy: 0.9715\n",
      "Epoch 9/10\n",
      "65/65 [==============================] - 5s 79ms/step - loss: 0.0845 - accuracy: 0.9715\n",
      "Epoch 10/10\n",
      "65/65 [==============================] - 5s 77ms/step - loss: 0.0643 - accuracy: 0.9807\n",
      "65/65 [==============================] - 5s 74ms/step - loss: 0.0335 - accuracy: 0.9913\n"
     ]
    }
   ],
   "source": [
    "X, y = load_calibration_data('../../../data/processed/color80_test/')\n",
    "eyenet = load_model_for_tuning('./eyenet/')\n",
    "eyenet_tuned = tune_model(eyenet, X,y)"
   ]
  },
  {
   "cell_type": "code",
   "execution_count": 96,
   "metadata": {},
   "outputs": [
    {
     "name": "stdout",
     "output_type": "stream",
     "text": [
      "{0: 0.9807692307692307, 1: 0.9975903614457832, 2: 0.9987908101571946, 3: 0.9829683698296837, 4: 0.9963811821471653}\n"
     ]
    }
   ],
   "source": [
    "predictions = eyenet_tuned.predict(X)\n",
    "predictions =[i.argmax() for i in predictions]\n",
    "report = classification_report(labels,predictions, output_dict=True)\n",
    "report= pd.DataFrame(report).transpose()\n",
    "scores = report['f1-score'].iloc[0:5]\n",
    "scores = {int(i):j for i,j in zip(scores.index,scores.values)}\n",
    "print(scores)"
   ]
  },
  {
   "cell_type": "code",
   "execution_count": 109,
   "metadata": {},
   "outputs": [],
   "source": [
    "predictions = eyenet_tuned.predict(X)\n",
    "output = [(i.argmax(),i.max()) for i in predictions]\n",
    "output = pd.DataFrame(output, columns=['prediction','probability'])"
   ]
  },
  {
   "cell_type": "code",
   "execution_count": 111,
   "metadata": {},
   "outputs": [],
   "source": [
    "output['true'] = y"
   ]
  },
  {
   "cell_type": "code",
   "execution_count": 133,
   "metadata": {},
   "outputs": [
    {
     "data": {
      "text/plain": [
       "1    414\n",
       "0      1\n",
       "4      1\n",
       "Name: true, dtype: int64"
      ]
     },
     "execution_count": 133,
     "metadata": {},
     "output_type": "execute_result"
    }
   ],
   "source": [
    "output[(output.prediction==1)].true.value_counts()"
   ]
  },
  {
   "cell_type": "code",
   "execution_count": 83,
   "metadata": {},
   "outputs": [
    {
     "name": "stdout",
     "output_type": "stream",
     "text": [
      "{0: 0.9050410316529895, 1: 0.9390681003584229, 2: 0.974910394265233, 3: 0.9311639549436797, 4: 0.950859950859951}\n"
     ]
    }
   ],
   "source": [
    "predictions = model.predict(images)\n",
    "predictions =[i.argmax() for i in predictions]\n",
    "report = classification_report(labels,predictions, output_dict=True)\n",
    "report= pd.DataFrame(report).transpose()\n",
    "scores = report['f1-score'].iloc[0:5]\n",
    "scores = {int(i):j for i,j in zip(scores.index,scores.values)}\n",
    "print(scores)"
   ]
  },
  {
   "cell_type": "code",
   "execution_count": 156,
   "metadata": {},
   "outputs": [],
   "source": [
    "arr = [1,5,2,3,6]"
   ]
  },
  {
   "cell_type": "code",
   "execution_count": 157,
   "metadata": {},
   "outputs": [],
   "source": [
    "arr[3]+=0.5"
   ]
  },
  {
   "cell_type": "code",
   "execution_count": 158,
   "metadata": {},
   "outputs": [
    {
     "data": {
      "text/plain": [
       "[1, 5, 2, 3.5, 6]"
      ]
     },
     "execution_count": 158,
     "metadata": {},
     "output_type": "execute_result"
    }
   ],
   "source": [
    "model.predict()"
   ]
  },
  {
   "cell_type": "code",
   "execution_count": 54,
   "metadata": {},
   "outputs": [],
   "source": [
    "def load_dataset(basepath):\n",
    "    data = []\n",
    "    labels = []\n",
    "    for label in ['up','down','left','right','center']:\n",
    "        files = glob.glob(os.path.join(basepath,label) + '/*.jpg')\n",
    "        for f in files:\n",
    "            img = cv2.imread(f, cv2.IMREAD_UNCHANGED)\n",
    "            img = img.reshape((50,50,1))\n",
    "#             img = np.expand_dims(img,0)\n",
    "            data.append(img)\n",
    "            labels.append(label)\n",
    "    data = np.array(data)\n",
    "    labels = np.array(labels)\n",
    "    print('loading complete.')\n",
    "    return data, labels"
   ]
  },
  {
   "cell_type": "code",
   "execution_count": 55,
   "metadata": {},
   "outputs": [
    {
     "name": "stdout",
     "output_type": "stream",
     "text": [
      "loading complete.\n"
     ]
    }
   ],
   "source": [
    "X, y = load_dataset(basepath='../../../data/raw/eye_frames/')"
   ]
  },
  {
   "cell_type": "code",
   "execution_count": 56,
   "metadata": {},
   "outputs": [
    {
     "data": {
      "text/plain": [
       "(15252, 50, 50, 1)"
      ]
     },
     "execution_count": 56,
     "metadata": {},
     "output_type": "execute_result"
    }
   ],
   "source": [
    "X.shape"
   ]
  },
  {
   "cell_type": "code",
   "execution_count": 57,
   "metadata": {},
   "outputs": [],
   "source": [
    "le = preprocessing.LabelEncoder()"
   ]
  },
  {
   "cell_type": "code",
   "execution_count": 58,
   "metadata": {},
   "outputs": [],
   "source": [
    "y_encoded = le.fit_transform(y)"
   ]
  },
  {
   "cell_type": "code",
   "execution_count": 59,
   "metadata": {},
   "outputs": [
    {
     "data": {
      "text/plain": [
       "array(['center', 'down', 'left', 'right', 'up'], dtype='<U6')"
      ]
     },
     "execution_count": 59,
     "metadata": {},
     "output_type": "execute_result"
    }
   ],
   "source": [
    "le.classes_"
   ]
  },
  {
   "cell_type": "code",
   "execution_count": 60,
   "metadata": {},
   "outputs": [],
   "source": [
    "X_train, X_test, y_train, y_test = train_test_split(X, y_encoded, test_size=0.33, shuffle=True)"
   ]
  }
 ],
 "metadata": {
  "kernelspec": {
   "display_name": "Python 3",
   "language": "python",
   "name": "python3"
  },
  "language_info": {
   "codemirror_mode": {
    "name": "ipython",
    "version": 3
   },
   "file_extension": ".py",
   "mimetype": "text/x-python",
   "name": "python",
   "nbconvert_exporter": "python",
   "pygments_lexer": "ipython3",
   "version": "3.8.3"
  }
 },
 "nbformat": 4,
 "nbformat_minor": 4
}
