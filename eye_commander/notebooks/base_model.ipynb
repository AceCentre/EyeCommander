{
 "cells": [
  {
   "cell_type": "code",
   "execution_count": 71,
   "metadata": {},
   "outputs": [],
   "source": [
    "import matplotlib.pyplot as plt\n",
    "import numpy as np\n",
    "import os\n",
    "import PIL\n",
    "import tensorflow as tf\n",
    "from tensorflow import keras\n",
    "from tensorflow.keras import layers\n",
    "from tensorflow.keras.models import Sequential\n",
    "import cv2\n",
    "import numpy as np\n",
    "import glob\n",
    "from sklearn.model_selection import train_test_split\n",
    "from sklearn import preprocessing\n",
    "import pandas as pd\n",
    "from sklearn.metrics import classification_report"
   ]
  },
  {
   "cell_type": "code",
   "execution_count": 162,
   "metadata": {},
   "outputs": [],
   "source": [
    "batch_size = 1\n",
    "num_classes = 5\n",
    "img_height = 50\n",
    "img_width = 50"
   ]
  },
  {
   "cell_type": "code",
   "execution_count": 163,
   "metadata": {},
   "outputs": [
    {
     "name": "stdout",
     "output_type": "stream",
     "text": [
      "Found 15252 files belonging to 5 classes.\n",
      "Using 13727 files for training.\n",
      "Found 15252 files belonging to 5 classes.\n",
      "Using 1525 files for validation.\n",
      "Found 1372 files belonging to 5 classes.\n",
      "['center', 'down', 'left', 'right', 'up']\n"
     ]
    }
   ],
   "source": [
    "train = tf.keras.preprocessing.image_dataset_from_directory(\n",
    "  '../../../data/raw/eye_frames/50_50/',\n",
    "  validation_split=0.1,\n",
    "    color_mode=\"grayscale\",\n",
    "    label_mode='int',\n",
    "  subset=\"training\",\n",
    "    shuffle=True,\n",
    "  seed=123,\n",
    "  image_size=(img_height, img_width),\n",
    "  batch_size=batch_size)\n",
    "\n",
    "dev = tf.keras.preprocessing.image_dataset_from_directory(\n",
    "  '../../../data/raw/eye_frames/50_50/',\n",
    "  validation_split=0.1,\n",
    "  color_mode=\"grayscale\",\n",
    "    label_mode='int',\n",
    "    shuffle=True,\n",
    "  subset=\"validation\",\n",
    "  seed=123,\n",
    "  image_size=(img_height, img_width),\n",
    "  batch_size=batch_size)\n",
    "\n",
    "test = tf.keras.preprocessing.image_dataset_from_directory(\n",
    "  '../../../data/raw/eye_frames/testing_50_50/',\n",
    "  color_mode=\"grayscale\",\n",
    "    label_mode='int',\n",
    "    shuffle=True,\n",
    "  seed=123,\n",
    "  image_size=(img_height, img_width),\n",
    "  batch_size=batch_size)\n",
    "\n",
    "class_names = train.class_names\n",
    "print(class_names)"
   ]
  },
  {
   "cell_type": "code",
   "execution_count": 85,
   "metadata": {},
   "outputs": [
    {
     "name": "stdout",
     "output_type": "stream",
     "text": [
      "Model: \"jupiter3\"\n",
      "_________________________________________________________________\n",
      "Layer (type)                 Output Shape              Param #   \n",
      "=================================================================\n",
      "input_4 (InputLayer)         [(None, 50, 50, 1)]       0         \n",
      "_________________________________________________________________\n",
      "rescaling_3 (Rescaling)      (None, 50, 50, 1)         0         \n",
      "_________________________________________________________________\n",
      "conv2d_9 (Conv2D)            (None, 50, 50, 32)        64        \n",
      "_________________________________________________________________\n",
      "max_pooling2d_9 (MaxPooling2 (None, 25, 25, 32)        0         \n",
      "_________________________________________________________________\n",
      "conv2d_10 (Conv2D)           (None, 25, 25, 64)        2112      \n",
      "_________________________________________________________________\n",
      "max_pooling2d_10 (MaxPooling (None, 12, 12, 64)        0         \n",
      "_________________________________________________________________\n",
      "conv2d_11 (Conv2D)           (None, 12, 12, 128)       8320      \n",
      "_________________________________________________________________\n",
      "max_pooling2d_11 (MaxPooling (None, 6, 6, 128)         0         \n",
      "_________________________________________________________________\n",
      "dropout_3 (Dropout)          (None, 6, 6, 128)         0         \n",
      "_________________________________________________________________\n",
      "flatten_3 (Flatten)          (None, 4608)              0         \n",
      "_________________________________________________________________\n",
      "dense_6 (Dense)              (None, 256)               1179904   \n",
      "_________________________________________________________________\n",
      "dense_7 (Dense)              (None, 5)                 1285      \n",
      "=================================================================\n",
      "Total params: 1,191,685\n",
      "Trainable params: 1,191,685\n",
      "Non-trainable params: 0\n",
      "_________________________________________________________________\n"
     ]
    }
   ],
   "source": [
    "input_layer = keras.Input(shape=(img_height, img_width, 1))\n",
    "x = keras.layers.experimental.preprocessing.Rescaling(1./255)(input_layer)\n",
    "x = keras.layers.Conv2D(32, 1, padding='same', activation='relu')(x)\n",
    "x = keras.layers.MaxPooling2D()(x)\n",
    "# x = keras.layers.Dropout(0.2)(x)\n",
    "x = keras.layers.Conv2D(64, 1, padding='same', activation='relu')(x)\n",
    "x = keras.layers.MaxPooling2D()(x)\n",
    "# x = keras.layers.Dropout(0.2)(x)\n",
    "x = keras.layers.Conv2D(128, 1, padding='same', activation='relu')(x)\n",
    "x = keras.layers.MaxPooling2D()(x)\n",
    "x = keras.layers.Dropout(0.2)(x)\n",
    "x = keras.layers.Flatten()(x)\n",
    "x = keras.layers.Dense(256, activation='relu')(x)\n",
    "# x = keras.layers.Dense(32, activation='relu')(x)\n",
    "output_layer = keras.layers.Dense(num_classes, activation='softmax')(x)\n",
    "\n",
    "model = keras.Model(inputs=input_layer, outputs=output_layer, name=\"jupiter3\")\n",
    "\n",
    "opt = tf.keras.optimizers.Adam(learning_rate=0.001, beta_1=0.9, beta_2=0.999, epsilon=1e-07, amsgrad=False,name='Adam')\n",
    "# opt = tf.keras.optimizers.SGD(lr=0.0001, momentum=0.9)\n",
    "# model.compile(optimizer=opt, loss='categorical_crossentropy', metrics=['accuracy'])\n",
    "    \n",
    "model.compile(optimizer=opt, \n",
    "              loss=tf.keras.losses.SparseCategoricalCrossentropy(from_logits=True),\n",
    "              metrics=['accuracy'])\n",
    "   \n",
    "model.summary()"
   ]
  },
  {
   "cell_type": "code",
   "execution_count": 86,
   "metadata": {},
   "outputs": [],
   "source": [
    "es = tf.keras.callbacks.EarlyStopping(monitor='val_loss', mode='min', verbose=1, patience=10)\n",
    "mc = tf.keras.callbacks.ModelCheckpoint('./best_model_aug.h5', monitor='val_accuracy', mode='max', verbose=1, save_best_only=True)\n",
    "callbacks = [es,mc]"
   ]
  },
  {
   "cell_type": "code",
   "execution_count": 82,
   "metadata": {},
   "outputs": [],
   "source": [
    "epochs = 50"
   ]
  },
  {
   "cell_type": "code",
   "execution_count": 87,
   "metadata": {},
   "outputs": [
    {
     "name": "stdout",
     "output_type": "stream",
     "text": [
      "Epoch 1/50\n",
      "429/429 [==============================] - ETA: 0s - loss: 1.1927 - accuracy: 0.7161\n",
      "Epoch 00001: val_accuracy improved from -inf to 0.89770, saving model to ./best_model_aug.h5\n",
      "429/429 [==============================] - 15s 35ms/step - loss: 1.1927 - accuracy: 0.7161 - val_loss: 1.0109 - val_accuracy: 0.8977\n",
      "Epoch 2/50\n",
      "429/429 [==============================] - ETA: 0s - loss: 1.0062 - accuracy: 0.9014\n",
      "Epoch 00002: val_accuracy improved from 0.89770 to 0.92393, saving model to ./best_model_aug.h5\n",
      "429/429 [==============================] - 15s 34ms/step - loss: 1.0062 - accuracy: 0.9014 - val_loss: 0.9837 - val_accuracy: 0.9239\n",
      "Epoch 3/50\n",
      "428/429 [============================>.] - ETA: 0s - loss: 0.9887 - accuracy: 0.9170\n",
      "Epoch 00003: val_accuracy improved from 0.92393 to 0.93574, saving model to ./best_model_aug.h5\n",
      "429/429 [==============================] - 15s 34ms/step - loss: 0.9885 - accuracy: 0.9172 - val_loss: 0.9719 - val_accuracy: 0.9357\n",
      "Epoch 4/50\n",
      "429/429 [==============================] - ETA: 0s - loss: 0.9671 - accuracy: 0.9392\n",
      "Epoch 00004: val_accuracy improved from 0.93574 to 0.94295, saving model to ./best_model_aug.h5\n",
      "429/429 [==============================] - 15s 34ms/step - loss: 0.9671 - accuracy: 0.9392 - val_loss: 0.9604 - val_accuracy: 0.9430\n",
      "Epoch 5/50\n",
      "428/429 [============================>.] - ETA: 0s - loss: 0.9554 - accuracy: 0.9504\n",
      "Epoch 00005: val_accuracy improved from 0.94295 to 0.96197, saving model to ./best_model_aug.h5\n",
      "429/429 [==============================] - 15s 35ms/step - loss: 0.9552 - accuracy: 0.9505 - val_loss: 0.9444 - val_accuracy: 0.9620\n",
      "Epoch 6/50\n",
      "429/429 [==============================] - ETA: 0s - loss: 0.9493 - accuracy: 0.9559\n",
      "Epoch 00006: val_accuracy did not improve from 0.96197\n",
      "429/429 [==============================] - 15s 35ms/step - loss: 0.9493 - accuracy: 0.9559 - val_loss: 0.9456 - val_accuracy: 0.9593\n",
      "Epoch 7/50\n",
      "428/429 [============================>.] - ETA: 0s - loss: 0.9428 - accuracy: 0.9621\n",
      "Epoch 00007: val_accuracy improved from 0.96197 to 0.96393, saving model to ./best_model_aug.h5\n",
      "429/429 [==============================] - 15s 35ms/step - loss: 0.9428 - accuracy: 0.9621 - val_loss: 0.9409 - val_accuracy: 0.9639\n",
      "Epoch 8/50\n",
      "428/429 [============================>.] - ETA: 0s - loss: 0.9380 - accuracy: 0.9675\n",
      "Epoch 00008: val_accuracy improved from 0.96393 to 0.96984, saving model to ./best_model_aug.h5\n",
      "429/429 [==============================] - 15s 35ms/step - loss: 0.9380 - accuracy: 0.9675 - val_loss: 0.9338 - val_accuracy: 0.9698\n",
      "Epoch 9/50\n",
      "428/429 [============================>.] - ETA: 0s - loss: 0.9360 - accuracy: 0.9685\n",
      "Epoch 00009: val_accuracy improved from 0.96984 to 0.97115, saving model to ./best_model_aug.h5\n",
      "429/429 [==============================] - 16s 37ms/step - loss: 0.9360 - accuracy: 0.9685 - val_loss: 0.9335 - val_accuracy: 0.9711\n",
      "Epoch 10/50\n",
      "429/429 [==============================] - ETA: 0s - loss: 0.9311 - accuracy: 0.9742\n",
      "Epoch 00010: val_accuracy improved from 0.97115 to 0.97443, saving model to ./best_model_aug.h5\n",
      "429/429 [==============================] - 18s 42ms/step - loss: 0.9311 - accuracy: 0.9742 - val_loss: 0.9307 - val_accuracy: 0.9744\n",
      "Epoch 11/50\n",
      "428/429 [============================>.] - ETA: 0s - loss: 0.9338 - accuracy: 0.9711\n",
      "Epoch 00011: val_accuracy improved from 0.97443 to 0.97967, saving model to ./best_model_aug.h5\n",
      "429/429 [==============================] - 19s 44ms/step - loss: 0.9339 - accuracy: 0.9710 - val_loss: 0.9260 - val_accuracy: 0.9797\n",
      "Epoch 12/50\n",
      "429/429 [==============================] - ETA: 0s - loss: 0.9315 - accuracy: 0.9738\n",
      "Epoch 00012: val_accuracy did not improve from 0.97967\n",
      "429/429 [==============================] - 15s 35ms/step - loss: 0.9315 - accuracy: 0.9738 - val_loss: 0.9404 - val_accuracy: 0.9659\n",
      "Epoch 13/50\n",
      "428/429 [============================>.] - ETA: 0s - loss: 0.9306 - accuracy: 0.9744\n",
      "Epoch 00013: val_accuracy did not improve from 0.97967\n",
      "429/429 [==============================] - 15s 35ms/step - loss: 0.9306 - accuracy: 0.9744 - val_loss: 0.9307 - val_accuracy: 0.9738\n",
      "Epoch 14/50\n",
      "429/429 [==============================] - ETA: 0s - loss: 0.9279 - accuracy: 0.9772\n",
      "Epoch 00014: val_accuracy did not improve from 0.97967\n",
      "429/429 [==============================] - 15s 34ms/step - loss: 0.9279 - accuracy: 0.9772 - val_loss: 0.9284 - val_accuracy: 0.9764\n",
      "Epoch 15/50\n",
      "428/429 [============================>.] - ETA: 0s - loss: 0.9281 - accuracy: 0.9769\n",
      "Epoch 00015: val_accuracy did not improve from 0.97967\n",
      "429/429 [==============================] - 15s 35ms/step - loss: 0.9282 - accuracy: 0.9768 - val_loss: 0.9329 - val_accuracy: 0.9718\n",
      "Epoch 16/50\n",
      "428/429 [============================>.] - ETA: 0s - loss: 0.9284 - accuracy: 0.9767\n",
      "Epoch 00016: val_accuracy did not improve from 0.97967\n",
      "429/429 [==============================] - 15s 35ms/step - loss: 0.9285 - accuracy: 0.9766 - val_loss: 0.9293 - val_accuracy: 0.9757\n",
      "Epoch 17/50\n",
      "429/429 [==============================] - ETA: 0s - loss: 0.9251 - accuracy: 0.9797\n",
      "Epoch 00017: val_accuracy did not improve from 0.97967\n",
      "429/429 [==============================] - 15s 35ms/step - loss: 0.9251 - accuracy: 0.9797 - val_loss: 0.9262 - val_accuracy: 0.9784\n",
      "Epoch 18/50\n",
      "429/429 [==============================] - ETA: 0s - loss: 0.9277 - accuracy: 0.9773\n",
      "Epoch 00018: val_accuracy improved from 0.97967 to 0.98361, saving model to ./best_model_aug.h5\n",
      "429/429 [==============================] - 15s 35ms/step - loss: 0.9277 - accuracy: 0.9773 - val_loss: 0.9212 - val_accuracy: 0.9836\n",
      "Epoch 19/50\n",
      "428/429 [============================>.] - ETA: 0s - loss: 0.9251 - accuracy: 0.9793\n",
      "Epoch 00019: val_accuracy did not improve from 0.98361\n",
      "429/429 [==============================] - 15s 35ms/step - loss: 0.9250 - accuracy: 0.9793 - val_loss: 0.9226 - val_accuracy: 0.9816\n",
      "Epoch 20/50\n",
      "428/429 [============================>.] - ETA: 0s - loss: 0.9260 - accuracy: 0.9793\n",
      "Epoch 00020: val_accuracy did not improve from 0.98361\n",
      "429/429 [==============================] - 15s 35ms/step - loss: 0.9260 - accuracy: 0.9792 - val_loss: 0.9243 - val_accuracy: 0.9810\n",
      "Epoch 21/50\n",
      "428/429 [============================>.] - ETA: 0s - loss: 0.9233 - accuracy: 0.9815\n",
      "Epoch 00021: val_accuracy did not improve from 0.98361\n",
      "429/429 [==============================] - 15s 35ms/step - loss: 0.9235 - accuracy: 0.9814 - val_loss: 0.9251 - val_accuracy: 0.9803\n",
      "Epoch 22/50\n",
      "429/429 [==============================] - ETA: 0s - loss: 0.9242 - accuracy: 0.9808\n",
      "Epoch 00022: val_accuracy did not improve from 0.98361\n",
      "429/429 [==============================] - 15s 35ms/step - loss: 0.9242 - accuracy: 0.9808 - val_loss: 0.9304 - val_accuracy: 0.9738\n",
      "Epoch 23/50\n",
      "428/429 [============================>.] - ETA: 0s - loss: 0.9258 - accuracy: 0.9789\n",
      "Epoch 00023: val_accuracy did not improve from 0.98361\n",
      "429/429 [==============================] - 15s 35ms/step - loss: 0.9257 - accuracy: 0.9789 - val_loss: 0.9214 - val_accuracy: 0.9836\n",
      "Epoch 24/50\n",
      "428/429 [============================>.] - ETA: 0s - loss: 0.9242 - accuracy: 0.9807 E\n",
      "Epoch 00024: val_accuracy did not improve from 0.98361\n",
      "429/429 [==============================] - 15s 35ms/step - loss: 0.9241 - accuracy: 0.9808 - val_loss: 0.9212 - val_accuracy: 0.9836\n",
      "Epoch 25/50\n",
      "428/429 [============================>.] - ETA: 0s - loss: 0.9244 - accuracy: 0.9807\n",
      "Epoch 00025: val_accuracy did not improve from 0.98361\n",
      "429/429 [==============================] - 15s 35ms/step - loss: 0.9244 - accuracy: 0.9806 - val_loss: 0.9217 - val_accuracy: 0.9836\n",
      "Epoch 26/50\n",
      "428/429 [============================>.] - ETA: 0s - loss: 0.9232 - accuracy: 0.9815\n",
      "Epoch 00026: val_accuracy did not improve from 0.98361\n",
      "429/429 [==============================] - 15s 35ms/step - loss: 0.9232 - accuracy: 0.9815 - val_loss: 0.9230 - val_accuracy: 0.9810\n",
      "Epoch 27/50\n",
      "429/429 [==============================] - ETA: 0s - loss: 0.9224 - accuracy: 0.9826\n",
      "Epoch 00027: val_accuracy did not improve from 0.98361\n",
      "429/429 [==============================] - 15s 35ms/step - loss: 0.9224 - accuracy: 0.9826 - val_loss: 0.9238 - val_accuracy: 0.9810\n",
      "Epoch 28/50\n",
      "428/429 [============================>.] - ETA: 0s - loss: 0.9250 - accuracy: 0.9796\n",
      "Epoch 00028: val_accuracy did not improve from 0.98361\n",
      "429/429 [==============================] - 15s 35ms/step - loss: 0.9250 - accuracy: 0.9797 - val_loss: 0.9382 - val_accuracy: 0.9666\n",
      "Epoch 29/50\n",
      "429/429 [==============================] - ETA: 0s - loss: 0.9239 - accuracy: 0.9805\n",
      "Epoch 00029: val_accuracy did not improve from 0.98361\n",
      "429/429 [==============================] - 16s 37ms/step - loss: 0.9239 - accuracy: 0.9805 - val_loss: 0.9221 - val_accuracy: 0.9823\n",
      "Epoch 30/50\n",
      "428/429 [============================>.] - ETA: 0s - loss: 0.9218 - accuracy: 0.9827\n",
      "Epoch 00030: val_accuracy did not improve from 0.98361\n",
      "429/429 [==============================] - 16s 36ms/step - loss: 0.9219 - accuracy: 0.9827 - val_loss: 0.9215 - val_accuracy: 0.9830\n",
      "Epoch 31/50\n",
      "429/429 [==============================] - ETA: 0s - loss: 0.9210 - accuracy: 0.9839\n",
      "Epoch 00031: val_accuracy did not improve from 0.98361\n",
      "429/429 [==============================] - 15s 36ms/step - loss: 0.9210 - accuracy: 0.9839 - val_loss: 0.9208 - val_accuracy: 0.9836\n",
      "Epoch 32/50\n",
      "428/429 [============================>.] - ETA: 0s - loss: 0.9217 - accuracy: 0.9828\n",
      "Epoch 00032: val_accuracy improved from 0.98361 to 0.98426, saving model to ./best_model_aug.h5\n",
      "429/429 [==============================] - 16s 38ms/step - loss: 0.9217 - accuracy: 0.9828 - val_loss: 0.9211 - val_accuracy: 0.9843\n",
      "Epoch 33/50\n",
      "428/429 [============================>.] - ETA: 0s - loss: 0.9229 - accuracy: 0.9818\n",
      "Epoch 00033: val_accuracy did not improve from 0.98426\n",
      "429/429 [==============================] - 15s 35ms/step - loss: 0.9229 - accuracy: 0.9819 - val_loss: 0.9238 - val_accuracy: 0.9810\n",
      "Epoch 34/50\n",
      "429/429 [==============================] - ETA: 0s - loss: 0.9231 - accuracy: 0.9819\n",
      "Epoch 00034: val_accuracy did not improve from 0.98426\n",
      "429/429 [==============================] - 15s 36ms/step - loss: 0.9231 - accuracy: 0.9819 - val_loss: 0.9257 - val_accuracy: 0.9790\n",
      "Epoch 35/50\n",
      "428/429 [============================>.] - ETA: 0s - loss: 0.9243 - accuracy: 0.9804\n",
      "Epoch 00035: val_accuracy did not improve from 0.98426\n",
      "429/429 [==============================] - 15s 35ms/step - loss: 0.9244 - accuracy: 0.9803 - val_loss: 0.9215 - val_accuracy: 0.9830\n",
      "Epoch 36/50\n",
      "429/429 [==============================] - ETA: 0s - loss: 0.9237 - accuracy: 0.9811\n",
      "Epoch 00036: val_accuracy did not improve from 0.98426\n",
      "429/429 [==============================] - 15s 35ms/step - loss: 0.9237 - accuracy: 0.9811 - val_loss: 0.9218 - val_accuracy: 0.9823\n",
      "Epoch 37/50\n",
      "428/429 [============================>.] - ETA: 0s - loss: 0.9200 - accuracy: 0.9847\n",
      "Epoch 00037: val_accuracy improved from 0.98426 to 0.98492, saving model to ./best_model_aug.h5\n",
      "429/429 [==============================] - 15s 35ms/step - loss: 0.9200 - accuracy: 0.9848 - val_loss: 0.9206 - val_accuracy: 0.9849\n",
      "Epoch 38/50\n",
      "428/429 [============================>.] - ETA: 0s - loss: 0.9219 - accuracy: 0.9828\n",
      "Epoch 00038: val_accuracy did not improve from 0.98492\n",
      "429/429 [==============================] - 15s 35ms/step - loss: 0.9220 - accuracy: 0.9827 - val_loss: 0.9226 - val_accuracy: 0.9830\n",
      "Epoch 39/50\n",
      "429/429 [==============================] - ETA: 0s - loss: 0.9238 - accuracy: 0.9811\n",
      "Epoch 00039: val_accuracy did not improve from 0.98492\n",
      "429/429 [==============================] - 15s 35ms/step - loss: 0.9238 - accuracy: 0.9811 - val_loss: 0.9250 - val_accuracy: 0.9797\n",
      "Epoch 40/50\n",
      "428/429 [============================>.] - ETA: 0s - loss: 0.9228 - accuracy: 0.9819\n",
      "Epoch 00040: val_accuracy improved from 0.98492 to 0.98557, saving model to ./best_model_aug.h5\n",
      "429/429 [==============================] - 15s 35ms/step - loss: 0.9227 - accuracy: 0.9819 - val_loss: 0.9189 - val_accuracy: 0.9856\n",
      "Epoch 41/50\n",
      "429/429 [==============================] - ETA: 0s - loss: 0.9224 - accuracy: 0.9822\n",
      "Epoch 00041: val_accuracy did not improve from 0.98557\n",
      "429/429 [==============================] - 15s 34ms/step - loss: 0.9224 - accuracy: 0.9822 - val_loss: 0.9361 - val_accuracy: 0.9685\n",
      "Epoch 42/50\n",
      "428/429 [============================>.] - ETA: 0s - loss: 0.9246 - accuracy: 0.9799\n",
      "Epoch 00042: val_accuracy did not improve from 0.98557\n",
      "429/429 [==============================] - 16s 37ms/step - loss: 0.9246 - accuracy: 0.9800 - val_loss: 0.9254 - val_accuracy: 0.9784\n",
      "Epoch 43/50\n",
      "428/429 [============================>.] - ETA: 0s - loss: 0.9208 - accuracy: 0.9838\n",
      "Epoch 00043: val_accuracy did not improve from 0.98557\n",
      "429/429 [==============================] - 21s 48ms/step - loss: 0.9209 - accuracy: 0.9838 - val_loss: 0.9234 - val_accuracy: 0.9810\n",
      "Epoch 44/50\n",
      "428/429 [============================>.] - ETA: 0s - loss: 0.9218 - accuracy: 0.9827\n",
      "Epoch 00044: val_accuracy did not improve from 0.98557\n",
      "429/429 [==============================] - 15s 35ms/step - loss: 0.9218 - accuracy: 0.9827 - val_loss: 0.9227 - val_accuracy: 0.9816\n",
      "Epoch 45/50\n",
      "429/429 [==============================] - ETA: 0s - loss: 0.9215 - accuracy: 0.9833\n",
      "Epoch 00045: val_accuracy did not improve from 0.98557\n",
      "429/429 [==============================] - 16s 36ms/step - loss: 0.9215 - accuracy: 0.9833 - val_loss: 0.9212 - val_accuracy: 0.9836\n",
      "Epoch 46/50\n",
      "428/429 [============================>.] - ETA: 0s - loss: 0.9220 - accuracy: 0.9830\n",
      "Epoch 00046: val_accuracy did not improve from 0.98557\n",
      "429/429 [==============================] - 17s 40ms/step - loss: 0.9220 - accuracy: 0.9830 - val_loss: 0.9202 - val_accuracy: 0.9849\n",
      "Epoch 47/50\n",
      "428/429 [============================>.] - ETA: 0s - loss: 0.9222 - accuracy: 0.9827\n",
      "Epoch 00047: val_accuracy improved from 0.98557 to 0.98623, saving model to ./best_model_aug.h5\n",
      "429/429 [==============================] - 16s 36ms/step - loss: 0.9221 - accuracy: 0.9827 - val_loss: 0.9180 - val_accuracy: 0.9862\n",
      "Epoch 48/50\n",
      "429/429 [==============================] - ETA: 0s - loss: 0.9209 - accuracy: 0.9839\n",
      "Epoch 00048: val_accuracy did not improve from 0.98623\n",
      "429/429 [==============================] - 16s 37ms/step - loss: 0.9209 - accuracy: 0.9839 - val_loss: 0.9202 - val_accuracy: 0.9849\n",
      "Epoch 49/50\n",
      "429/429 [==============================] - ETA: 0s - loss: 0.9223 - accuracy: 0.9824\n",
      "Epoch 00049: val_accuracy did not improve from 0.98623\n",
      "429/429 [==============================] - 15s 35ms/step - loss: 0.9223 - accuracy: 0.9824 - val_loss: 0.9217 - val_accuracy: 0.9823\n",
      "Epoch 50/50\n",
      "429/429 [==============================] - ETA: 0s - loss: 0.9192 - accuracy: 0.9856\n",
      "Epoch 00050: val_accuracy did not improve from 0.98623\n",
      "429/429 [==============================] - 16s 38ms/step - loss: 0.9192 - accuracy: 0.9856 - val_loss: 0.9199 - val_accuracy: 0.9849\n"
     ]
    }
   ],
   "source": [
    "history = model.fit(\n",
    "  train,\n",
    "  validation_data=dev,\n",
    "  epochs=epochs, \n",
    "  batch_size =batch_size,\n",
    "    callbacks=callbacks\n",
    ")"
   ]
  },
  {
   "cell_type": "code",
   "execution_count": 88,
   "metadata": {},
   "outputs": [],
   "source": [
    "train_history = pd.DataFrame(history.history)"
   ]
  },
  {
   "cell_type": "code",
   "execution_count": 91,
   "metadata": {},
   "outputs": [
    {
     "data": {
      "text/plain": [
       "<matplotlib.axes._subplots.AxesSubplot at 0x7fcb009a4670>"
      ]
     },
     "execution_count": 91,
     "metadata": {},
     "output_type": "execute_result"
    },
    {
     "data": {
      "image/png": "[encoded data removed]",
      "text/plain": [
       "<Figure size 432x288 with 1 Axes>"
      ]
     },
     "metadata": {
      "needs_background": "light"
     },
     "output_type": "display_data"
    }
   ],
   "source": [
    "train_history.val_accuracy.plot()"
   ]
  },
  {
   "cell_type": "code",
   "execution_count": 491,
   "metadata": {},
   "outputs": [],
   "source": [
    "def augment(arr):\n",
    "    for idx in range(len(arr)):\n",
    "        img = arr[idx]\n",
    "        img = np.array(tf.image.random_brightness(img,max_delta=0.3))\n",
    "        while (img.mean() > 210) or (img.mean() < 50):\n",
    "            img = np.array(tf.image.random_brightness(img,max_delta=0.3))\n",
    "        arr[idx] = img\n",
    "    return arr"
   ]
  },
  {
   "cell_type": "code",
   "execution_count": 492,
   "metadata": {},
   "outputs": [
    {
     "name": "stdout",
     "output_type": "stream",
     "text": [
      "{0: 356, 1: 258, 2: 268, 3: 414, 4: 76}\n"
     ]
    }
   ],
   "source": [
    "path = '../../../data/raw/eye_frames/testing_50_50/'\n",
    "d = {}\n",
    "for idx, l in enumerate(['center', 'down', 'left', 'right', 'up']):\n",
    "    subpath = os.path.join(path, l)\n",
    "    files = glob.glob(subpath + '/*.jpg')\n",
    "    data = []\n",
    "    for f in files:\n",
    "        img = cv2.imread(f, cv2.IMREAD_UNCHANGED)\n",
    "        data.append(img)\n",
    "    d[idx] = np.array(data)\n",
    "shapes = {key:val.shape[0] for key,val in d.items()}\n",
    "max_size = max(shapes.values())\n",
    "print(shapes)"
   ]
  },
  {
   "cell_type": "code",
   "execution_count": 493,
   "metadata": {},
   "outputs": [
    {
     "name": "stdout",
     "output_type": "stream",
     "text": [
      "{0: 414, 1: 414, 2: 414, 3: 414, 4: 414}\n"
     ]
    }
   ],
   "source": [
    "for key, val in shapes.items():\n",
    "    diff = max_size - val\n",
    "    if diff <= 0:\n",
    "        continue\n",
    "    else:\n",
    "        smpl_idxs = np.random.randint(0, val-1, size=diff)\n",
    "        samples = augment(d[key][smpl_idxs])\n",
    "        d[key] = np.concatenate([d[key],samples])\n",
    "shapes = {key:val.shape[0] for key,val in d.items()}\n",
    "print(shapes)\n"
   ]
  },
  {
   "cell_type": "code",
   "execution_count": 494,
   "metadata": {},
   "outputs": [],
   "source": [
    "# for key, val in shapes.items():\n",
    "#     diff = max_size - val\n",
    "#     if diff <= 0:\n",
    "#         continue\n",
    "#     else:\n",
    "#         smpl_idxs = np.random.randint(0, val-1, size=diff)\n",
    "#         samples = d[key][smpl_idxs]\n",
    "#         d[key] = np.concatenate([d[key],samples])\n",
    "# shapes = {key:val.shape[0] for key,val in d.items()}\n",
    "# print(shapes)\n"
   ]
  },
  {
   "cell_type": "code",
   "execution_count": 495,
   "metadata": {},
   "outputs": [
    {
     "name": "stdout",
     "output_type": "stream",
     "text": [
      "{0: 828, 1: 828, 2: 828, 3: 828, 4: 828}\n"
     ]
    }
   ],
   "source": [
    "# double up\n",
    "d[0] = np.concatenate([d[0],d[0]])\n",
    "d[1] = np.concatenate([d[1],d[1]])\n",
    "d[2] = np.concatenate([d[2],d[2]])\n",
    "d[3] = np.concatenate([d[3],d[3]])\n",
    "d[4] = np.concatenate([d[4],d[4]])\n",
    "shapes = {key:val.shape[0] for key,val in d.items()}\n",
    "print(shapes)"
   ]
  },
  {
   "cell_type": "code",
   "execution_count": 496,
   "metadata": {},
   "outputs": [],
   "source": [
    "images = []\n",
    "labels = []\n",
    "for key, val in d.items():\n",
    "    images.extend(list(val))\n",
    "    labels.extend([key]*len(val))\n",
    "images = np.array(images)\n",
    "labels = np.array(labels)"
   ]
  },
  {
   "cell_type": "code",
   "execution_count": 504,
   "metadata": {},
   "outputs": [
    {
     "name": "stdout",
     "output_type": "stream",
     "text": [
      "130/130 [==============================] - 1s 11ms/step - loss: 1.4045 - accuracy: 0.2164\n"
     ]
    },
    {
     "data": {
      "text/plain": [
       "[1.40449857711792, 0.2164251208305359]"
      ]
     },
     "execution_count": 504,
     "metadata": {},
     "output_type": "execute_result"
    }
   ],
   "source": [
    "jupiter = tf.keras.models.load_model('../models/jupiter3.h5')\n",
    "jupiter.evaluate(x=images,y=labels)"
   ]
  },
  {
   "cell_type": "code",
   "execution_count": 507,
   "metadata": {},
   "outputs": [],
   "source": [
    "for i in range(len(jupiter.layers)):\n",
    "    jupiter.layers[i].trainable = False\n",
    "jupiter.layers[-1].trainable = True\n",
    "\n",
    "lr_schedule = tf.keras.optimizers.schedules.ExponentialDecay(\n",
    "    initial_learning_rate=1e-2,\n",
    "    decay_steps=10000,\n",
    "    decay_rate=0.9)\n",
    "opt = tf.keras.optimizers.Adam(learning_rate=lr_schedule, beta_1=0.9, beta_2=0.999, epsilon=1e-07, amsgrad=False,name='Adam')\n",
    "\n",
    "jupiter.compile(optimizer=opt, \n",
    "              loss=tf.keras.losses.SparseCategoricalCrossentropy(from_logits=True),\n",
    "              metrics=['accuracy']) \n",
    "\n",
    "es = tf.keras.callbacks.EarlyStopping(monitor='loss', mode='min', verbose=1, patience=10)\n",
    "mc = tf.keras.callbacks.ModelCheckpoint('./tuned.h5', monitor='accuracy', mode='max', verbose=1, save_best_only=True)\n",
    "callbacks = [es,mc]"
   ]
  },
  {
   "cell_type": "code",
   "execution_count": 508,
   "metadata": {},
   "outputs": [
    {
     "name": "stdout",
     "output_type": "stream",
     "text": [
      "Epoch 1/20\n",
      "4139/4140 [============================>.] - ETA: 0s - loss: 1.2875 - accuracy: 0.6125\n",
      "Epoch 00001: accuracy improved from -inf to 0.61256, saving model to ./tuned.h5\n",
      "4140/4140 [==============================] - 4s 1ms/step - loss: 1.2874 - accuracy: 0.6126\n",
      "Epoch 2/20\n",
      "4122/4140 [============================>.] - ETA: 0s - loss: 1.2605 - accuracy: 0.6405\n",
      "Epoch 00002: accuracy improved from 0.61256 to 0.64034, saving model to ./tuned.h5\n",
      "4140/4140 [==============================] - 4s 1ms/step - loss: 1.2606 - accuracy: 0.6403\n",
      "Epoch 3/20\n",
      "4126/4140 [============================>.] - ETA: 0s - loss: 1.2378 - accuracy: 0.6653\n",
      "Epoch 00003: accuracy improved from 0.64034 to 0.66570, saving model to ./tuned.h5\n",
      "4140/4140 [==============================] - 4s 1ms/step - loss: 1.2374 - accuracy: 0.6657\n",
      "Epoch 4/20\n",
      "4105/4140 [============================>.] - ETA: 0s - loss: 1.2394 - accuracy: 0.6636\n",
      "Epoch 00004: accuracy did not improve from 0.66570\n",
      "4140/4140 [==============================] - 4s 1ms/step - loss: 1.2399 - accuracy: 0.6630\n",
      "Epoch 5/20\n",
      "4120/4140 [============================>.] - ETA: 0s - loss: 1.2342 - accuracy: 0.6677\n",
      "Epoch 00005: accuracy improved from 0.66570 to 0.66787, saving model to ./tuned.h5\n",
      "4140/4140 [==============================] - 5s 1ms/step - loss: 1.2340 - accuracy: 0.6679\n",
      "Epoch 6/20\n",
      "4107/4140 [============================>.] - ETA: 0s - loss: 1.1992 - accuracy: 0.7039\n",
      "Epoch 00006: accuracy improved from 0.66787 to 0.70411, saving model to ./tuned.h5\n",
      "4140/4140 [==============================] - 4s 1ms/step - loss: 1.1991 - accuracy: 0.7041\n",
      "Epoch 7/20\n",
      "4113/4140 [============================>.] - ETA: 0s - loss: 1.2018 - accuracy: 0.7017\n",
      "Epoch 00007: accuracy did not improve from 0.70411\n",
      "4140/4140 [==============================] - 4s 1ms/step - loss: 1.2016 - accuracy: 0.7017\n",
      "Epoch 8/20\n",
      "4112/4140 [============================>.] - ETA: 0s - loss: 1.2025 - accuracy: 0.7004\n",
      "Epoch 00008: accuracy did not improve from 0.70411\n",
      "4140/4140 [==============================] - 4s 1ms/step - loss: 1.2023 - accuracy: 0.7005\n",
      "Epoch 9/20\n",
      "4106/4140 [============================>.] - ETA: 0s - loss: 1.2064 - accuracy: 0.6980\n",
      "Epoch 00009: accuracy did not improve from 0.70411\n",
      "4140/4140 [==============================] - 4s 995us/step - loss: 1.2054 - accuracy: 0.6990\n",
      "Epoch 10/20\n",
      "4111/4140 [============================>.] - ETA: 0s - loss: 1.2071 - accuracy: 0.6962\n",
      "Epoch 00010: accuracy did not improve from 0.70411\n",
      "4140/4140 [==============================] - 4s 1ms/step - loss: 1.2073 - accuracy: 0.6959\n",
      "Epoch 11/20\n",
      "4105/4140 [============================>.] - ETA: 0s - loss: 1.2052 - accuracy: 0.6982\n",
      "Epoch 00011: accuracy did not improve from 0.70411\n",
      "4140/4140 [==============================] - 4s 1ms/step - loss: 1.2061 - accuracy: 0.6973\n",
      "Epoch 12/20\n",
      "4113/4140 [============================>.] - ETA: 0s - loss: 1.1921 - accuracy: 0.7114\n",
      "Epoch 00012: accuracy improved from 0.70411 to 0.71184, saving model to ./tuned.h5\n",
      "4140/4140 [==============================] - 4s 1ms/step - loss: 1.1917 - accuracy: 0.7118\n",
      "Epoch 13/20\n",
      "4128/4140 [============================>.] - ETA: 0s - loss: 1.2003 - accuracy: 0.7025\n",
      "Epoch 00013: accuracy did not improve from 0.71184\n",
      "4140/4140 [==============================] - 4s 1ms/step - loss: 1.2002 - accuracy: 0.7024\n",
      "Epoch 14/20\n",
      "4101/4140 [============================>.] - ETA: 0s - loss: 1.1952 - accuracy: 0.7074\n",
      "Epoch 00014: accuracy did not improve from 0.71184\n",
      "4140/4140 [==============================] - 4s 1ms/step - loss: 1.1948 - accuracy: 0.7077\n",
      "Epoch 15/20\n",
      "4115/4140 [============================>.] - ETA: 0s - loss: 1.1781 - accuracy: 0.7247\n",
      "Epoch 00015: accuracy improved from 0.71184 to 0.72440, saving model to ./tuned.h5\n",
      "4140/4140 [==============================] - 4s 1ms/step - loss: 1.1783 - accuracy: 0.7244\n",
      "Epoch 16/20\n",
      "4139/4140 [============================>.] - ETA: 0s - loss: 1.1870 - accuracy: 0.7154\n",
      "Epoch 00016: accuracy did not improve from 0.72440\n",
      "4140/4140 [==============================] - 4s 1ms/step - loss: 1.1869 - accuracy: 0.7155\n",
      "Epoch 17/20\n",
      "4108/4140 [============================>.] - ETA: 0s - loss: 1.1803 - accuracy: 0.7215\n",
      "Epoch 00017: accuracy did not improve from 0.72440\n",
      "4140/4140 [==============================] - 4s 1ms/step - loss: 1.1803 - accuracy: 0.7215\n",
      "Epoch 18/20\n",
      "4119/4140 [============================>.] - ETA: 0s - loss: 1.1818 - accuracy: 0.7223\n",
      "Epoch 00018: accuracy did not improve from 0.72440\n",
      "4140/4140 [==============================] - 4s 1ms/step - loss: 1.1811 - accuracy: 0.7229\n",
      "Epoch 19/20\n",
      "4101/4140 [============================>.] - ETA: 0s - loss: 1.1803 - accuracy: 0.7232\n",
      "Epoch 00019: accuracy did not improve from 0.72440\n",
      "4140/4140 [==============================] - 4s 1ms/step - loss: 1.1798 - accuracy: 0.7237\n",
      "Epoch 20/20\n",
      "4129/4140 [============================>.] - ETA: 0s - loss: 1.1882 - accuracy: 0.7145\n",
      "Epoch 00020: accuracy did not improve from 0.72440\n",
      "4140/4140 [==============================] - 5s 1ms/step - loss: 1.1877 - accuracy: 0.7150\n"
     ]
    },
    {
     "data": {
      "text/plain": [
       "<matplotlib.axes._subplots.AxesSubplot at 0x7fcaf3f15640>"
      ]
     },
     "execution_count": 508,
     "metadata": {},
     "output_type": "execute_result"
    },
    {
     "data": {
      "image/png": "[encoded data removed]",
      "text/plain": [
       "<Figure size 432x288 with 1 Axes>"
      ]
     },
     "metadata": {
      "needs_background": "light"
     },
     "output_type": "display_data"
    }
   ],
   "source": [
    "retrain_history = jupiter.fit(\n",
    "x= images,\n",
    "    y=labels,\n",
    "  epochs=20, \n",
    "  batch_size =1,\n",
    "    callbacks=callbacks\n",
    ")\n",
    "train_history = pd.DataFrame(history.history)\n",
    "train_history.loss.plot()"
   ]
  },
  {
   "cell_type": "code",
   "execution_count": 509,
   "metadata": {},
   "outputs": [
    {
     "name": "stdout",
     "output_type": "stream",
     "text": [
      "130/130 [==============================] - 1s 11ms/step - loss: 1.1863 - accuracy: 0.7179\n"
     ]
    },
    {
     "data": {
      "text/plain": [
       "[1.1862579584121704, 0.7178744077682495]"
      ]
     },
     "execution_count": 509,
     "metadata": {},
     "output_type": "execute_result"
    }
   ],
   "source": [
    "jupiter.evaluate(x=images,y=labels)"
   ]
  },
  {
   "cell_type": "code",
   "execution_count": 510,
   "metadata": {},
   "outputs": [],
   "source": [
    "predictions = jupiter.predict(images)\n",
    "predictions =[i.argmax() for i in predictions]\n",
    "report = classification_report(labels,predictions, output_dict=True)\n",
    "report= pd.DataFrame(report).transpose()\n",
    "scores = report['f1-score'].iloc[0:5]\n",
    "scores = {int(i):j for i,j in zip(scores.index,scores.values)}\n",
    "print(scores)"
   ]
  },
  {
   "cell_type": "code",
   "execution_count": 546,
   "metadata": {},
   "outputs": [
    {
     "name": "stdout",
     "output_type": "stream",
     "text": [
      "Epoch 1/20\n",
      "824/828 [============================>.] - ETA: 0s - loss: 1.4362 - accuracy: 0.4660\n",
      "Epoch 00001: accuracy did not improve from 0.72440\n",
      "828/828 [==============================] - 1s 1ms/step - loss: 1.4348 - accuracy: 0.4674\n",
      "Epoch 2/20\n",
      "801/828 [============================>.] - ETA: 0s - loss: 1.3825 - accuracy: 0.5218\n",
      "Epoch 00002: accuracy did not improve from 0.72440\n",
      "828/828 [==============================] - 1s 1ms/step - loss: 1.3777 - accuracy: 0.5266\n",
      "Epoch 3/20\n",
      "800/828 [===========================>..] - ETA: 0s - loss: 1.3513 - accuracy: 0.5525\n",
      "Epoch 00003: accuracy did not improve from 0.72440\n",
      "828/828 [==============================] - 1s 1ms/step - loss: 1.3458 - accuracy: 0.5580\n",
      "Epoch 4/20\n",
      "784/828 [===========================>..] - ETA: 0s - loss: 1.1369 - accuracy: 0.7666\n",
      "Epoch 00004: accuracy improved from 0.72440 to 0.76932, saving model to ./tuned.h5\n",
      "828/828 [==============================] - 1s 1ms/step - loss: 1.1341 - accuracy: 0.7693\n",
      "Epoch 5/20\n",
      "797/828 [===========================>..] - ETA: 0s - loss: 1.0031 - accuracy: 0.9009\n",
      "Epoch 00005: accuracy improved from 0.76932 to 0.90217, saving model to ./tuned.h5\n",
      "828/828 [==============================] - 1s 1ms/step - loss: 1.0018 - accuracy: 0.9022\n",
      "Epoch 6/20\n",
      "786/828 [===========================>..] - ETA: 0s - loss: 0.9597 - accuracy: 0.9440\n",
      "Epoch 00006: accuracy improved from 0.90217 to 0.94565, saving model to ./tuned.h5\n",
      "828/828 [==============================] - 1s 1ms/step - loss: 0.9582 - accuracy: 0.9457\n",
      "Epoch 7/20\n",
      "823/828 [============================>.] - ETA: 0s - loss: 0.9365 - accuracy: 0.9684\n",
      "Epoch 00007: accuracy improved from 0.94565 to 0.96860, saving model to ./tuned.h5\n",
      "828/828 [==============================] - 1s 1ms/step - loss: 0.9363 - accuracy: 0.9686\n",
      "Epoch 8/20\n",
      "817/828 [============================>.] - ETA: 0s - loss: 0.9273 - accuracy: 0.9780\n",
      "Epoch 00008: accuracy improved from 0.96860 to 0.97705, saving model to ./tuned.h5\n",
      "828/828 [==============================] - 1s 1ms/step - loss: 0.9284 - accuracy: 0.9771\n",
      "Epoch 9/20\n",
      "818/828 [============================>.] - ETA: 0s - loss: 0.9114 - accuracy: 0.9927\n",
      "Epoch 00009: accuracy improved from 0.97705 to 0.99275, saving model to ./tuned.h5\n",
      "828/828 [==============================] - 1s 1ms/step - loss: 0.9113 - accuracy: 0.9928\n",
      "Epoch 10/20\n",
      "782/828 [===========================>..] - ETA: 0s - loss: 0.9074 - accuracy: 0.9974\n",
      "Epoch 00010: accuracy improved from 0.99275 to 0.99758, saving model to ./tuned.h5\n",
      "828/828 [==============================] - 1s 1ms/step - loss: 0.9073 - accuracy: 0.9976\n",
      "Epoch 11/20\n",
      "821/828 [============================>.] - ETA: 0s - loss: 0.9097 - accuracy: 0.9951\n",
      "Epoch 00011: accuracy did not improve from 0.99758\n",
      "828/828 [==============================] - 1s 1ms/step - loss: 0.9097 - accuracy: 0.9952\n",
      "Epoch 12/20\n",
      "816/828 [============================>.] - ETA: 0s - loss: 0.9073 - accuracy: 0.9975\n",
      "Epoch 00012: accuracy did not improve from 0.99758\n",
      "828/828 [==============================] - 1s 1ms/step - loss: 0.9085 - accuracy: 0.9964\n",
      "Epoch 13/20\n",
      "822/828 [============================>.] - ETA: 0s - loss: 0.9097 - accuracy: 0.9951\n",
      "Epoch 00013: accuracy did not improve from 0.99758\n",
      "828/828 [==============================] - 1s 1ms/step - loss: 0.9097 - accuracy: 0.9952\n",
      "Epoch 14/20\n",
      "814/828 [============================>.] - ETA: 0s - loss: 0.9110 - accuracy: 0.9939\n",
      "Epoch 00014: accuracy did not improve from 0.99758\n",
      "828/828 [==============================] - 1s 1ms/step - loss: 0.9109 - accuracy: 0.9940\n",
      "Epoch 15/20\n",
      "811/828 [============================>.] - ETA: 0s - loss: 0.9083 - accuracy: 0.9963\n",
      "Epoch 00015: accuracy did not improve from 0.99758\n",
      "828/828 [==============================] - 1s 1ms/step - loss: 0.9083 - accuracy: 0.9964\n",
      "Epoch 16/20\n",
      "800/828 [===========================>..] - ETA: 0s - loss: 0.9085 - accuracy: 0.9962\n",
      "Epoch 00016: accuracy did not improve from 0.99758\n",
      "828/828 [==============================] - 1s 1ms/step - loss: 0.9084 - accuracy: 0.9964\n",
      "Epoch 17/20\n",
      "826/828 [============================>.] - ETA: 0s - loss: 0.9082 - accuracy: 0.9964\n",
      "Epoch 00017: accuracy did not improve from 0.99758\n",
      "828/828 [==============================] - 1s 1ms/step - loss: 0.9082 - accuracy: 0.9964\n",
      "Epoch 18/20\n",
      "793/828 [===========================>..] - ETA: 0s - loss: 0.9064 - accuracy: 0.9987 ETA: 0s - loss: 0.9\n",
      "Epoch 00018: accuracy improved from 0.99758 to 0.99879, saving model to ./tuned.h5\n",
      "828/828 [==============================] - 1s 1ms/step - loss: 0.9063 - accuracy: 0.9988\n",
      "Epoch 19/20\n",
      "795/828 [===========================>..] - ETA: 0s - loss: 0.9073 - accuracy: 0.9975\n",
      "Epoch 00019: accuracy did not improve from 0.99879\n",
      "828/828 [==============================] - 1s 1ms/step - loss: 0.9072 - accuracy: 0.9976\n",
      "Epoch 20/20\n",
      "810/828 [============================>.] - ETA: 0s - loss: 0.9061 - accuracy: 0.9988\n",
      "Epoch 00020: accuracy did not improve from 0.99879\n",
      "828/828 [==============================] - 1s 1ms/step - loss: 0.9060 - accuracy: 0.9988\n"
     ]
    }
   ],
   "source": [
    "retrain_history = jupiter.fit(\n",
    "x= d[0],\n",
    "    y=np.array([0]*len(d[0])),\n",
    "  epochs=20, \n",
    "  batch_size =1,\n",
    "    callbacks=callbacks\n",
    ")"
   ]
  },
  {
   "cell_type": "code",
   "execution_count": 549,
   "metadata": {},
   "outputs": [
    {
     "name": "stdout",
     "output_type": "stream",
     "text": [
      "{0: 0.3246268656716418, 1: 0.7130620985010706, 2: 0.9076517150395778, 3: 0.7360157016683024, 4: 0.7771556550951848}\n"
     ]
    }
   ],
   "source": [
    "print(scores)"
   ]
  },
  {
   "cell_type": "code",
   "execution_count": 550,
   "metadata": {},
   "outputs": [
    {
     "name": "stdout",
     "output_type": "stream",
     "text": [
      "{0: 0.36990595611285265, 1: 0.004807692307692307, 2: 0.5479930191972078, 3: 0.0, 4: 0.014354066985645932}\n"
     ]
    }
   ],
   "source": [
    "predictions = jupiter.predict(images)\n",
    "predictions =[i.argmax() for i in predictions]\n",
    "report = classification_report(labels,predictions, output_dict=True)\n",
    "report= pd.DataFrame(report).transpose()\n",
    "scores = report['f1-score'].iloc[0:5]\n",
    "scores = {int(i):j for i,j in zip(scores.index,scores.values)}\n",
    "print(scores)"
   ]
  },
  {
   "cell_type": "code",
   "execution_count": 513,
   "metadata": {},
   "outputs": [
    {
     "name": "stdout",
     "output_type": "stream",
     "text": [
      "              precision    recall  f1-score   support\n",
      "\n",
      "           0       0.71      0.21      0.32       828\n",
      "           1       0.64      0.80      0.71       828\n",
      "           2       1.00      0.83      0.91       828\n",
      "           3       0.62      0.91      0.74       828\n",
      "           4       0.72      0.84      0.78       828\n",
      "\n",
      "    accuracy                           0.72      4140\n",
      "   macro avg       0.74      0.72      0.69      4140\n",
      "weighted avg       0.74      0.72      0.69      4140\n",
      "\n"
     ]
    }
   ],
   "source": [
    "print(report)"
   ]
  },
  {
   "cell_type": "code",
   "execution_count": 422,
   "metadata": {},
   "outputs": [
    {
     "name": "stdout",
     "output_type": "stream",
     "text": [
      "              precision    recall  f1-score   support\n",
      "\n",
      "           0       0.64      0.56      0.60       828\n",
      "           1       0.56      0.93      0.70       414\n",
      "           2       1.00      0.98      0.99       414\n",
      "           3       0.42      0.46      0.44       414\n",
      "           4       0.99      0.52      0.68       414\n",
      "\n",
      "    accuracy                           0.67      2484\n",
      "   macro avg       0.72      0.69      0.68      2484\n",
      "weighted avg       0.71      0.67      0.67      2484\n",
      "\n"
     ]
    }
   ],
   "source": [
    "print(report)"
   ]
  },
  {
   "cell_type": "code",
   "execution_count": 215,
   "metadata": {},
   "outputs": [
    {
     "name": "stdout",
     "output_type": "stream",
     "text": [
      "              precision    recall  f1-score   support\n",
      "\n",
      "           0       0.81      0.52      0.63      1780\n",
      "           1       0.71      0.92      0.81      1290\n",
      "           2       0.97      0.98      0.97      1340\n",
      "           3       0.76      0.91      0.83      2070\n",
      "           4       1.00      0.55      0.71       380\n",
      "\n",
      "    accuracy                           0.81      6860\n",
      "   macro avg       0.85      0.78      0.79      6860\n",
      "weighted avg       0.82      0.81      0.80      6860\n",
      "\n"
     ]
    }
   ],
   "source": [
    "print(report)"
   ]
  },
  {
   "cell_type": "code",
   "execution_count": 199,
   "metadata": {},
   "outputs": [
    {
     "data": {
      "text/plain": [
       "['center', 'down', 'left', 'right', 'up']"
      ]
     },
     "execution_count": 199,
     "metadata": {},
     "output_type": "execute_result"
    }
   ],
   "source": [
    "test.class_names"
   ]
  },
  {
   "cell_type": "code",
   "execution_count": 67,
   "metadata": {},
   "outputs": [],
   "source": [
    "from sklearn import metrics"
   ]
  },
  {
   "cell_type": "code",
   "execution_count": 69,
   "metadata": {},
   "outputs": [
    {
     "data": {
      "text/plain": [
       "0.4803206997084548"
      ]
     },
     "execution_count": 69,
     "metadata": {},
     "output_type": "execute_result"
    }
   ],
   "source": [
    "metrics.accuracy_score(test_labels, predictions)"
   ]
  },
  {
   "cell_type": "code",
   "execution_count": 61,
   "metadata": {},
   "outputs": [],
   "source": []
  },
  {
   "cell_type": "code",
   "execution_count": 64,
   "metadata": {},
   "outputs": [],
   "source": []
  },
  {
   "cell_type": "code",
   "execution_count": 46,
   "metadata": {},
   "outputs": [
    {
     "data": {
      "text/plain": [
       "(1372, 50, 50, 1)"
      ]
     },
     "execution_count": 46,
     "metadata": {},
     "output_type": "execute_result"
    }
   ],
   "source": [
    "test_images.shape"
   ]
  },
  {
   "cell_type": "code",
   "execution_count": 107,
   "metadata": {},
   "outputs": [],
   "source": [
    "base_model = tf.keras.models.load_model('./best_model_aug.h5')"
   ]
  },
  {
   "cell_type": "code",
   "execution_count": 108,
   "metadata": {},
   "outputs": [
    {
     "name": "stdout",
     "output_type": "stream",
     "text": [
      "143/143 [==============================] - 1s 6ms/step - loss: 0.9311 - accuracy: 0.1825\n"
     ]
    },
    {
     "data": {
      "text/plain": [
       "[0.9311159253120422, 0.18251365423202515]"
      ]
     },
     "execution_count": 108,
     "metadata": {},
     "output_type": "execute_result"
    }
   ],
   "source": [
    "base_model.evaluate(val_ds)"
   ]
  },
  {
   "cell_type": "code",
   "execution_count": 54,
   "metadata": {},
   "outputs": [],
   "source": [
    "def load_dataset(basepath):\n",
    "    data = []\n",
    "    labels = []\n",
    "    for label in ['up','down','left','right','center']:\n",
    "        files = glob.glob(os.path.join(basepath,label) + '/*.jpg')\n",
    "        for f in files:\n",
    "            img = cv2.imread(f, cv2.IMREAD_UNCHANGED)\n",
    "            img = img.reshape((50,50,1))\n",
    "#             img = np.expand_dims(img,0)\n",
    "            data.append(img)\n",
    "            labels.append(label)\n",
    "    data = np.array(data)\n",
    "    labels = np.array(labels)\n",
    "    print('loading complete.')\n",
    "    return data, labels"
   ]
  },
  {
   "cell_type": "code",
   "execution_count": 55,
   "metadata": {},
   "outputs": [
    {
     "name": "stdout",
     "output_type": "stream",
     "text": [
      "loading complete.\n"
     ]
    }
   ],
   "source": [
    "X, y = load_dataset(basepath='../../../data/raw/eye_frames/')"
   ]
  },
  {
   "cell_type": "code",
   "execution_count": 56,
   "metadata": {},
   "outputs": [
    {
     "data": {
      "text/plain": [
       "(15252, 50, 50, 1)"
      ]
     },
     "execution_count": 56,
     "metadata": {},
     "output_type": "execute_result"
    }
   ],
   "source": [
    "X.shape"
   ]
  },
  {
   "cell_type": "code",
   "execution_count": 57,
   "metadata": {},
   "outputs": [],
   "source": [
    "le = preprocessing.LabelEncoder()"
   ]
  },
  {
   "cell_type": "code",
   "execution_count": 58,
   "metadata": {},
   "outputs": [],
   "source": [
    "y_encoded = le.fit_transform(y)"
   ]
  },
  {
   "cell_type": "code",
   "execution_count": 59,
   "metadata": {},
   "outputs": [
    {
     "data": {
      "text/plain": [
       "array(['center', 'down', 'left', 'right', 'up'], dtype='<U6')"
      ]
     },
     "execution_count": 59,
     "metadata": {},
     "output_type": "execute_result"
    }
   ],
   "source": [
    "le.classes_"
   ]
  },
  {
   "cell_type": "code",
   "execution_count": 60,
   "metadata": {},
   "outputs": [],
   "source": [
    "X_train, X_test, y_train, y_test = train_test_split(X, y_encoded, test_size=0.33, shuffle=True)"
   ]
  }
 ],
 "metadata": {
  "kernelspec": {
   "display_name": "Python 3",
   "language": "python",
   "name": "python3"
  },
  "language_info": {
   "codemirror_mode": {
    "name": "ipython",
    "version": 3
   },
   "file_extension": ".py",
   "mimetype": "text/x-python",
   "name": "python",
   "nbconvert_exporter": "python",
   "pygments_lexer": "ipython3",
   "version": "3.8.3"
  }
 },
 "nbformat": 4,
 "nbformat_minor": 4
}
