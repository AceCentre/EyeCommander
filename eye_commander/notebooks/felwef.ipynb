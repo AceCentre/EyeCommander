{
 "cells": [
  {
   "cell_type": "code",
   "execution_count": 71,
   "metadata": {},
   "outputs": [],
   "source": [
    "import matplotlib.pyplot as plt\n",
    "import numpy as np\n",
    "import os\n",
    "import PIL\n",
    "import tensorflow as tf\n",
    "from tensorflow import keras\n",
    "from tensorflow.keras import layers\n",
    "from tensorflow.keras.models import Sequential\n",
    "import cv2\n",
    "import numpy as np"
   ]
  },
  {
   "cell_type": "code",
   "execution_count": 72,
   "metadata": {},
   "outputs": [],
   "source": [
    "batch_size = 16"
   ]
  },
  {
   "cell_type": "code",
   "execution_count": 79,
   "metadata": {},
   "outputs": [
    {
     "name": "stdout",
     "output_type": "stream",
     "text": [
      "Found 17996 files belonging to 5 classes.\n",
      "Using 14397 files for training.\n",
      "Found 17996 files belonging to 5 classes.\n",
      "Using 3599 files for validation.\n",
      "['center', 'down', 'left', 'right', 'up']\n"
     ]
    }
   ],
   "source": [
    "train_ds = tf.keras.preprocessing.image_dataset_from_directory(\n",
    "  '/Users/danielkashkett/Desktop/EyeProject/data/micronet/',\n",
    "  validation_split=0.2,\n",
    "    color_mode=\"grayscale\",\n",
    "  subset=\"training\",\n",
    "  seed=123,\n",
    "  image_size=(img_height, img_width),\n",
    "  batch_size=batch_size)\n",
    "\n",
    "val_ds = tf.keras.preprocessing.image_dataset_from_directory(\n",
    "  '/Users/danielkashkett/Desktop/EyeProject/data/micronet/',\n",
    "  validation_split=0.2,\n",
    "  color_mode=\"grayscale\",\n",
    "  subset=\"validation\",\n",
    "  seed=123,\n",
    "  image_size=(img_height, img_width),\n",
    "  batch_size=batch_size)\n",
    "\n",
    "class_names = train_ds.class_names\n",
    "print(class_names)"
   ]
  },
  {
   "cell_type": "code",
   "execution_count": 80,
   "metadata": {},
   "outputs": [
    {
     "name": "stdout",
     "output_type": "stream",
     "text": [
      "Model: \"jupiter3\"\n",
      "_________________________________________________________________\n",
      "Layer (type)                 Output Shape              Param #   \n",
      "=================================================================\n",
      "input_29 (InputLayer)        [(None, 30, 30, 1)]       0         \n",
      "_________________________________________________________________\n",
      "rescaling_28 (Rescaling)     (None, 30, 30, 1)         0         \n",
      "_________________________________________________________________\n",
      "conv2d_67 (Conv2D)           (None, 30, 30, 32)        64        \n",
      "_________________________________________________________________\n",
      "max_pooling2d_67 (MaxPooling (None, 15, 15, 32)        0         \n",
      "_________________________________________________________________\n",
      "conv2d_68 (Conv2D)           (None, 15, 15, 64)        2112      \n",
      "_________________________________________________________________\n",
      "max_pooling2d_68 (MaxPooling (None, 7, 7, 64)          0         \n",
      "_________________________________________________________________\n",
      "dropout_37 (Dropout)         (None, 7, 7, 64)          0         \n",
      "_________________________________________________________________\n",
      "conv2d_69 (Conv2D)           (None, 7, 7, 128)         8320      \n",
      "_________________________________________________________________\n",
      "max_pooling2d_69 (MaxPooling (None, 3, 3, 128)         0         \n",
      "_________________________________________________________________\n",
      "dropout_38 (Dropout)         (None, 3, 3, 128)         0         \n",
      "_________________________________________________________________\n",
      "flatten_22 (Flatten)         (None, 1152)              0         \n",
      "_________________________________________________________________\n",
      "dense_44 (Dense)             (None, 512)               590336    \n",
      "_________________________________________________________________\n",
      "dense_45 (Dense)             (None, 5)                 2565      \n",
      "=================================================================\n",
      "Total params: 603,397\n",
      "Trainable params: 603,397\n",
      "Non-trainable params: 0\n",
      "_________________________________________________________________\n"
     ]
    }
   ],
   "source": [
    "num_classes = 5\n",
    "img_height = 30\n",
    "img_width = 30\n",
    "input_layer = keras.Input(shape=(img_height, img_width, 1))\n",
    "x = keras.layers.experimental.preprocessing.Rescaling(1./255)(input_layer)\n",
    "# x = keras.layers.Lambda(lambda x: tf.image.random_brightness(x, max_delta=0.2))(x)\n",
    "# x = keras.layers.Lambda(lambda x: tf.image.random_contrast(x, lower=0.1, upper=0.9))(x)\n",
    "x = keras.layers.Conv2D(32, 1, padding='same', activation='relu')(x)\n",
    "x = keras.layers.MaxPooling2D()(x)\n",
    "x = keras.layers.Conv2D(64, 1, padding='same', activation='relu')(x)\n",
    "x = keras.layers.MaxPooling2D()(x)\n",
    "x = keras.layers.Dropout(0.2)(x)\n",
    "x = keras.layers.Conv2D(128, 1, padding='same', activation='relu')(x)\n",
    "x = keras.layers.MaxPooling2D()(x)\n",
    "x = keras.layers.Dropout(0.2)(x)\n",
    "x = keras.layers.Flatten()(x)\n",
    "x = keras.layers.Dense(512, activation='relu')(x)\n",
    "output_layer = keras.layers.Dense(num_classes, activation='softmax')(x)\n",
    "\n",
    "model = keras.Model(inputs=input_layer, outputs=output_layer, name=\"jupiter3\")\n",
    "\n",
    "opt = tf.keras.optimizers.Adam(learning_rate=0.001, beta_1=0.9, beta_2=0.999, epsilon=1e-07, amsgrad=False,name='Adam')\n",
    "# opt = tf.keras.optimizers.SGD(lr=0.0001, momentum=0.9)\n",
    "# model.compile(optimizer=opt, loss='categorical_crossentropy', metrics=['accuracy'])\n",
    "    \n",
    "model.compile(optimizer=opt, \n",
    "              loss=tf.keras.losses.SparseCategoricalCrossentropy(from_logits=True),\n",
    "              metrics=['accuracy'])\n",
    "   \n",
    "model.summary()"
   ]
  },
  {
   "cell_type": "code",
   "execution_count": 81,
   "metadata": {},
   "outputs": [
    {
     "name": "stdout",
     "output_type": "stream",
     "text": [
      "Epoch 1/7\n",
      "900/900 [==============================] - 16s 18ms/step - loss: 1.3412 - accuracy: 0.5600 - val_loss: 1.2106 - val_accuracy: 0.6899\n",
      "Epoch 2/7\n",
      "900/900 [==============================] - 11s 13ms/step - loss: 1.0996 - accuracy: 0.8094 - val_loss: 1.0061 - val_accuracy: 0.9014\n",
      "Epoch 3/7\n",
      "900/900 [==============================] - 9s 10ms/step - loss: 1.0218 - accuracy: 0.8854 - val_loss: 0.9821 - val_accuracy: 0.9236\n",
      "Epoch 4/7\n",
      "900/900 [==============================] - 9s 10ms/step - loss: 0.9940 - accuracy: 0.9131 - val_loss: 0.9610 - val_accuracy: 0.9461\n",
      "Epoch 5/7\n",
      "900/900 [==============================] - 9s 10ms/step - loss: 0.9799 - accuracy: 0.9257 - val_loss: 0.9542 - val_accuracy: 0.9547\n",
      "Epoch 6/7\n",
      "900/900 [==============================] - 9s 10ms/step - loss: 0.9680 - accuracy: 0.9380 - val_loss: 0.9549 - val_accuracy: 0.9492\n",
      "Epoch 7/7\n",
      "900/900 [==============================] - 9s 10ms/step - loss: 0.9653 - accuracy: 0.9406 - val_loss: 0.9435 - val_accuracy: 0.9644\n"
     ]
    },
    {
     "data": {
      "text/plain": [
       "<tensorflow.python.keras.callbacks.History at 0x7fdd75a8cc10>"
      ]
     },
     "execution_count": 81,
     "metadata": {},
     "output_type": "execute_result"
    }
   ],
   "source": [
    "model.fit(\n",
    "  train_ds,\n",
    "  validation_data=val_ds,\n",
    "  epochs=7, \n",
    "  batch_size =batch_size\n",
    ")"
   ]
  },
  {
   "cell_type": "code",
   "execution_count": 82,
   "metadata": {},
   "outputs": [
    {
     "name": "stdout",
     "output_type": "stream",
     "text": [
      "INFO:tensorflow:Assets written to: ./Models/micronet/assets\n"
     ]
    }
   ],
   "source": [
    "model.save('./Models/micronet')"
   ]
  },
  {
   "cell_type": "code",
   "execution_count": 2,
   "metadata": {},
   "outputs": [],
   "source": [
    "model = tf.keras.models.load_model('./Models/jupiter1')"
   ]
  },
  {
   "cell_type": "code",
   "execution_count": 55,
   "metadata": {},
   "outputs": [],
   "source": [
    "img1 = cv2.imread('../data/eye_imgs/right/a1.jpg' ,cv2.IMREAD_UNCHANGED)\n",
    "img2 = cv2.imread('../data/eye_imgs/left/a10.jpg' ,cv2.IMREAD_UNCHANGED)\n",
    "# img = img.reshape((100,100,1))\n",
    "# img = np.expand_dims(img,0)"
   ]
  },
  {
   "cell_type": "code",
   "execution_count": 56,
   "metadata": {},
   "outputs": [
    {
     "data": {
      "text/plain": [
       "3"
      ]
     },
     "execution_count": 56,
     "metadata": {},
     "output_type": "execute_result"
    }
   ],
   "source": [
    "predict_both(left = img1, right = img2)"
   ]
  },
  {
   "cell_type": "code",
   "execution_count": 24,
   "metadata": {},
   "outputs": [],
   "source": [
    "def joint_prediction():\n",
    "    pass"
   ]
  },
  {
   "cell_type": "code",
   "execution_count": 42,
   "metadata": {},
   "outputs": [],
   "source": [
    "img1 = np.expand_dims(img1,0)\n",
    "img2 = np.expand_dims(img2,0)"
   ]
  },
  {
   "cell_type": "code",
   "execution_count": 43,
   "metadata": {},
   "outputs": [],
   "source": [
    "a = np.concatenate((img1,img2))"
   ]
  },
  {
   "cell_type": "code",
   "execution_count": 27,
   "metadata": {},
   "outputs": [
    {
     "data": {
      "text/plain": [
       "(2, 100, 100)"
      ]
     },
     "execution_count": 27,
     "metadata": {},
     "output_type": "execute_result"
    }
   ],
   "source": [
    "a.shape"
   ]
  },
  {
   "cell_type": "code",
   "execution_count": 45,
   "metadata": {},
   "outputs": [
    {
     "data": {
      "text/plain": [
       "array([ 2.0141094, -0.907617 ,  3.9984462, -2.9328032,  1.9947188],\n",
       "      dtype=float32)"
      ]
     },
     "execution_count": 45,
     "metadata": {},
     "output_type": "execute_result"
    }
   ],
   "source": [
    "model.predict(a)"
   ]
  },
  {
   "cell_type": "code",
   "execution_count": 53,
   "metadata": {},
   "outputs": [],
   "source": [
    "def predict_both(left, right):\n",
    "    img1 = np.expand_dims(left,0)\n",
    "    img2 = np.expand_dims(right,0)\n",
    "    concat = np.concatenate((img1,img2))\n",
    "    classes = model.predict_classes(concat)\n",
    "    if classes[0] == classes[1]:\n",
    "        return classes[0]\n",
    "    else:\n",
    "        pred = model.predict(concat)\n",
    "        a = (pred[0].argmax(), pred[0].max())\n",
    "        b = (pred[1].argmax(), pred[1].max())\n",
    "        if a[1] > b[1]:\n",
    "            return a[0]\n",
    "        else:\n",
    "            return b[0]"
   ]
  },
  {
   "cell_type": "code",
   "execution_count": null,
   "metadata": {},
   "outputs": [],
   "source": [
    "def predict_frame(self, eye_img):\n",
    "    img = eye_img.copy()\n",
    "    batch = np.expand_dims(img,0)\n",
    "    prediction = self.model.predict_classes(batch)[0]\n",
    "    return prediction"
   ]
  },
  {
   "cell_type": "code",
   "execution_count": 211,
   "metadata": {},
   "outputs": [
    {
     "data": {
      "text/plain": [
       "['center', 'down', 'left', 'right', 'up']"
      ]
     },
     "execution_count": 211,
     "metadata": {},
     "output_type": "execute_result"
    }
   ],
   "source": [
    "class_names"
   ]
  },
  {
   "cell_type": "code",
   "execution_count": 212,
   "metadata": {},
   "outputs": [
    {
     "name": "stdout",
     "output_type": "stream",
     "text": [
      "WARNING:tensorflow:5 out of the last 20 calls to <function Model.make_predict_function.<locals>.predict_function at 0x7fe44183d8b0> triggered tf.function retracing. Tracing is expensive and the excessive number of tracings could be due to (1) creating @tf.function repeatedly in a loop, (2) passing tensors with different shapes, (3) passing Python objects instead of tensors. For (1), please define your @tf.function outside of the loop. For (2), @tf.function has experimental_relax_shapes=True option that relaxes argument shapes that can avoid unnecessary retracing. For (3), please refer to https://www.tensorflow.org/tutorials/customization/performance#python_or_tensor_args and https://www.tensorflow.org/api_docs/python/tf/function for  more details.\n"
     ]
    },
    {
     "data": {
      "text/plain": [
       "2"
      ]
     },
     "execution_count": 212,
     "metadata": {},
     "output_type": "execute_result"
    }
   ],
   "source": [
    "model.predict_classes(img)[0]"
   ]
  }
 ],
 "metadata": {
  "kernelspec": {
   "display_name": "Python 3",
   "language": "python",
   "name": "python3"
  },
  "language_info": {
   "codemirror_mode": {
    "name": "ipython",
    "version": 3
   },
   "file_extension": ".py",
   "mimetype": "text/x-python",
   "name": "python",
   "nbconvert_exporter": "python",
   "pygments_lexer": "ipython3",
   "version": "3.8.3"
  }
 },
 "nbformat": 4,
 "nbformat_minor": 4
}
